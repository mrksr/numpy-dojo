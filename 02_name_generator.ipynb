{
 "cells": [
  {
   "cell_type": "markdown",
   "metadata": {},
   "source": [
    "Markov chain procedural name generation\n",
    "===\n",
    "\n",
    "The Model\n",
    "---\n",
    "In this notebook we develop a model for procedural name generation tool using [Markov chains](https://en.wikipedia.org/wiki/Markov_chain).\n",
    "We are given a set of names and are tasked with generating new ones which are similar but ideally not the same.\n",
    "We will use [n-grams](https://en.wikipedia.org/wiki/N-gram) extracted from the data set to derive a transition matrix of a Markov chain which can then, in turn, be used to generate new names letter by letter.\n",
    "Every state of the Markov chain represents a currently observed observed n-gram (plus a few special states) and the transition probabilities are based on the conditional probabilities of observing the next letter (or n-gram) in the training set.\n",
    "\n",
    "First we will only consider 1-grams, i.e. single letters. We say the model has a memory of 1. The state space of our Markov chain is then given by\n",
    "$$ V = \\{ \\hat{}, \\$, a, b, \\dots, y, z \\} $$\n",
    "where the $\\hat{}$ represents the start of a word and the $\\$$ represents the end of a word.\n",
    "Say our training set is a bit boring and only consists of the words \"abc\" and \"xbz\".\n",
    "Then our model should end up with the transition probabilities\n",
    "$$\\begin{align}\n",
    "p(\\hat{} \\to a) = p(\\hat{} \\to x) &= 0.5 \\\\\n",
    "p(a \\to b) &= 1 \\\\\n",
    "p(x \\to b) &= 1 \\\\\n",
    "p(b \\to c) = p(b \\to z) &= 0.5 \\\\ \n",
    "p(c \\to \\$) &= 1 \\\\\n",
    "p(z \\to \\$) &= 1 \\\\\n",
    "\\end{align}$$\n",
    "where all other probabilities are zero.\n",
    "In order to sample a new word from the chain, we start in the state $\\hat{}$ and keep sampling the next state until we end up in $\\$$, keeping track of the states we visited along the way.\n",
    "Every state then represents one letter in the generated name.\n",
    "For our simple training set, the set of all words we can possibly generate is given by\n",
    "$$\\{abc, xbz, abz, xbc\\}.$$\n",
    "\n",
    "In the case where we consider 2-grams or more (i.e. the memory of the model grows), the chain will have one state for every possible n-gram.\n",
    "The training and sampling procedures will remain the same but when generating a new word, we have to only consider the last (or first) letter in every n-gram we visit as part of the generated name.\n",
    "\n",
    "Your Tasks\n",
    "---\n",
    "You are already provided with some data sets (feel free to add your own) and code to handle the mapping from n-grams to state indices and back. You tasks are to:\n",
    "\n",
    "  1. Extract the transition probabilities from the training set and represent it using NumPy arrays\n",
    "  2. Sample a new name using Python generators\n",
    "  3. OPTIONAL: Come up with filters to improve the output\n",
    "  4. Sample a new name using NumPy facilities\n",
    "  5. Vectorize the NumPy-Solution\n",
    "  6. Compare running times\n",
    "  \n",
    "Our goal in the end is to be able to sample very large amounts of names from our Markov chain."
   ]
  },
  {
   "cell_type": "markdown",
   "metadata": {
    "heading_collapsed": true
   },
   "source": [
    "# Imports and settings"
   ]
  },
  {
   "cell_type": "code",
   "execution_count": null,
   "metadata": {
    "ExecuteTime": {
     "end_time": "2017-07-26T15:53:36.604641Z",
     "start_time": "2017-07-26T17:53:36.598641+02:00"
    },
    "collapsed": true,
    "hidden": true
   },
   "outputs": [],
   "source": [
    "import itertools as it\n",
    "import timeit"
   ]
  },
  {
   "cell_type": "code",
   "execution_count": null,
   "metadata": {
    "ExecuteTime": {
     "end_time": "2017-07-26T15:53:38.185641Z",
     "start_time": "2017-07-26T17:53:36.607641+02:00"
    },
    "collapsed": true,
    "hidden": true
   },
   "outputs": [],
   "source": [
    "import numpy as np\n",
    "import matplotlib.pyplot as plt\n",
    "import seaborn as sns # Optional for nicer plots"
   ]
  },
  {
   "cell_type": "code",
   "execution_count": null,
   "metadata": {
    "ExecuteTime": {
     "end_time": "2017-07-26T15:53:38.207641Z",
     "start_time": "2017-07-26T17:53:38.188641+02:00"
    },
    "collapsed": false,
    "hidden": true
   },
   "outputs": [],
   "source": [
    "%matplotlib inline\n",
    "\n",
    "plt.rcParams['figure.figsize'] = (8, 8)\n",
    "plt.rcParams['figure.dpi'] = 110"
   ]
  },
  {
   "cell_type": "markdown",
   "metadata": {
    "heading_collapsed": true
   },
   "source": [
    "# Datasets"
   ]
  },
  {
   "cell_type": "code",
   "execution_count": null,
   "metadata": {
    "ExecuteTime": {
     "end_time": "2017-07-26T15:53:38.236641Z",
     "start_time": "2017-07-26T17:53:38.209641+02:00"
    },
    "collapsed": true,
    "hidden": true
   },
   "outputs": [],
   "source": [
    "def read_names(filename):\n",
    "    with open('data/{}'.format(filename), 'r', encoding='utf-8') as f:\n",
    "        return [line.strip() for line in f]\n",
    "\n",
    "name_lists = {\n",
    "    identifier: read_names(identifier)\n",
    "    for identifier in [\n",
    "        'debug',\n",
    "        'german_male', 'german_female',\n",
    "        'english_male', 'english_female',\n",
    "        'egypt_gods', 'norse_gods',\n",
    "        'angels', 'demons',\n",
    "    ]\n",
    "}"
   ]
  },
  {
   "cell_type": "code",
   "execution_count": null,
   "metadata": {
    "ExecuteTime": {
     "end_time": "2017-07-26T15:53:38.251641Z",
     "start_time": "2017-07-26T17:53:38.238641+02:00"
    },
    "collapsed": false,
    "hidden": true
   },
   "outputs": [],
   "source": [
    "name_lists['norse_gods'][:10]"
   ]
  },
  {
   "cell_type": "markdown",
   "metadata": {
    "heading_collapsed": true
   },
   "source": [
    "# States of the Markov chain"
   ]
  },
  {
   "cell_type": "code",
   "execution_count": null,
   "metadata": {
    "ExecuteTime": {
     "end_time": "2017-07-26T15:53:38.273641Z",
     "start_time": "2017-07-26T17:53:38.255641+02:00"
    },
    "collapsed": true,
    "hidden": true
   },
   "outputs": [],
   "source": [
    "delimiters = ['^', '$']\n",
    "vowels = ['a', 'e', 'i', 'o', 'u', 'ö', 'ü', 'ä']\n",
    "consonants = [\n",
    "    'b', 'c', 'd', 'f', 'g', 'h', 'j', 'k',\n",
    "    'l', 'm', 'n', 'p', 'q', 'r', 's', 't',\n",
    "    'v', 'w', 'x', 'y', 'z',\n",
    "]\n",
    "characters = sorted(it.chain(vowels, consonants))\n",
    "reverse_characters = {char: ix for ix, char in enumerate(characters)}\n",
    "state_base = len(characters)"
   ]
  },
  {
   "cell_type": "code",
   "execution_count": null,
   "metadata": {
    "ExecuteTime": {
     "end_time": "2017-07-26T15:53:38.301641Z",
     "start_time": "2017-07-26T17:53:38.275641+02:00"
    },
    "collapsed": true,
    "hidden": true
   },
   "outputs": [],
   "source": [
    "def state_index(chars):\n",
    "    if chars in delimiters:\n",
    "        return delimiters.index(chars)\n",
    "    else:\n",
    "        offset = len(delimiters) + sum(len(characters) ** b for b in range(1, len(chars)))\n",
    "        return offset + sum(\n",
    "            reverse_characters[char] * state_base ** exponent\n",
    "            for exponent, char in enumerate(reversed(chars))\n",
    "        )\n",
    "    \n",
    "    \n",
    "def state_labels(memory=1):\n",
    "    return list(it.chain(\n",
    "        delimiters,\n",
    "        *(\n",
    "            map(''.join, it.product(characters, repeat=repeat))\n",
    "            for repeat in range(1, memory + 1)\n",
    "        )\n",
    "    ))    \n",
    "\n",
    "\n",
    "def last_character(state):\n",
    "    if state < len(delimiters):\n",
    "        return delimiters[state]\n",
    "    else:\n",
    "        return characters[(state - len(delimiters)) % state_base]\n",
    "\n",
    "\n",
    "def recover_string(states):\n",
    "    return ''.join(map(last_character, states)).strip(''.join(delimiters))\n",
    "\n",
    "\n",
    "def recover_all_strings(statess):\n",
    "    return [\n",
    "        recover_string(states)\n",
    "        for states in statess\n",
    "    ]"
   ]
  },
  {
   "cell_type": "code",
   "execution_count": null,
   "metadata": {
    "ExecuteTime": {
     "end_time": "2017-07-26T15:53:38.322641Z",
     "start_time": "2017-07-26T17:53:38.304641+02:00"
    },
    "collapsed": true,
    "hidden": true
   },
   "outputs": [],
   "source": [
    "start_index = state_index('^')\n",
    "end_index = state_index('$')"
   ]
  },
  {
   "cell_type": "code",
   "execution_count": null,
   "metadata": {
    "ExecuteTime": {
     "end_time": "2017-07-26T15:53:38.349641Z",
     "start_time": "2017-07-26T17:53:38.324641+02:00"
    },
    "collapsed": false,
    "hidden": true
   },
   "outputs": [],
   "source": [
    "for string in ['^', '$', 'a', 'b', 'z', 'ü', 'aa', 'ab', 'ba', 'zz', 'aaa', 'üüü']:\n",
    "    print('Index of state {:>3}: {}'.format(string, state_index(string)))"
   ]
  },
  {
   "cell_type": "code",
   "execution_count": null,
   "metadata": {
    "ExecuteTime": {
     "end_time": "2017-07-26T15:53:38.365641Z",
     "start_time": "2017-07-26T17:53:38.353641+02:00"
    },
    "collapsed": false,
    "hidden": true
   },
   "outputs": [],
   "source": [
    "last_character(state_index('a')), last_character(state_index('abc'))"
   ]
  },
  {
   "cell_type": "code",
   "execution_count": null,
   "metadata": {
    "ExecuteTime": {
     "end_time": "2017-07-26T15:53:38.389641Z",
     "start_time": "2017-07-26T17:53:38.368641+02:00"
    },
    "collapsed": false,
    "hidden": true
   },
   "outputs": [],
   "source": [
    "recover_string([state_index(char) for char in 'siemens'])"
   ]
  },
  {
   "cell_type": "code",
   "execution_count": null,
   "metadata": {
    "ExecuteTime": {
     "end_time": "2017-07-26T15:53:38.415641Z",
     "start_time": "2017-07-26T17:53:38.392641+02:00"
    },
    "collapsed": false,
    "hidden": true
   },
   "outputs": [],
   "source": [
    "recover_all_strings([\n",
    "    [state_index(char) for char in 'ingenuity'],\n",
    "    [state_index(char) for char in 'for'],\n",
    "    [state_index(char) for char in 'life'],\n",
    "])"
   ]
  },
  {
   "cell_type": "markdown",
   "metadata": {
    "heading_collapsed": true
   },
   "source": [
    "# Creating a transition matrix"
   ]
  },
  {
   "cell_type": "markdown",
   "metadata": {
    "hidden": true
   },
   "source": [
    "Markov chains are often represented using transition matrices.\n",
    "If $N$ is the number of states in a markov chain, its corresponding transition matrix $T$ is of size $N \\times N$ and it holds that\n",
    "$$T_{ij} = p(i \\to j),$$\n",
    "i.e. the entry in the $i$th line and $j$th column represents the probabilitiy to transition from state $i$ to state $j$.\n",
    "Note that this implies that for all $i$,\n",
    "$$\\sum_j T_{ij} = 1.$$\n",
    "Do you understand why?\n",
    "\n",
    "In this section we want to derive the transition matrix corresponding to a training set.\n",
    "The first section provides code which translates the incoming words to the observations of state transitions we are interested in.\n",
    "In the second section, you job is to actually generate the transition matrix."
   ]
  },
  {
   "cell_type": "markdown",
   "metadata": {
    "heading_collapsed": true,
    "hidden": true
   },
   "source": [
    "## Handling the input"
   ]
  },
  {
   "cell_type": "code",
   "execution_count": null,
   "metadata": {
    "ExecuteTime": {
     "end_time": "2017-07-26T15:53:38.434641Z",
     "start_time": "2017-07-26T17:53:38.417641+02:00"
    },
    "collapsed": true,
    "hidden": true
   },
   "outputs": [],
   "source": [
    "def windowed(iterable, size):\n",
    "    \"\"\"Create a sliding window iterator over iterable.\n",
    "    \n",
    "    Given iterable=[a, b, c, d] and size=3, the result is a generator containing [(a, b, c), (b, c, d)]\n",
    "    \"\"\"\n",
    "    parts = it.tee(iterable, size)\n",
    "\n",
    "    for skip, part in enumerate(parts):\n",
    "        for _ in range(skip):\n",
    "            next(part, None)\n",
    "\n",
    "    return zip(*parts)"
   ]
  },
  {
   "cell_type": "code",
   "execution_count": null,
   "metadata": {
    "ExecuteTime": {
     "end_time": "2017-07-26T15:53:38.454641Z",
     "start_time": "2017-07-26T17:53:38.437641+02:00"
    },
    "collapsed": true,
    "hidden": true
   },
   "outputs": [],
   "source": [
    "def name_to_state_pairs(name, memory):\n",
    "    states = it.chain(\n",
    "        '^', # Start state\n",
    "        (tuple(name[:m]) for m in range(1, memory)), # Initial memory-free letters\n",
    "        windowed(name, memory), # Letters with memory\n",
    "        ['$'], # End state\n",
    "    )\n",
    "    return windowed(map(state_index, states), 2)"
   ]
  },
  {
   "cell_type": "code",
   "execution_count": null,
   "metadata": {
    "ExecuteTime": {
     "end_time": "2017-07-26T15:53:38.476641Z",
     "start_time": "2017-07-26T17:53:38.457641+02:00"
    },
    "collapsed": false,
    "hidden": true
   },
   "outputs": [],
   "source": [
    "list(name_to_state_pairs('abcdef', memory=1)), list(name_to_state_pairs('abcdef', memory=2))"
   ]
  },
  {
   "cell_type": "markdown",
   "metadata": {
    "heading_collapsed": true,
    "hidden": true
   },
   "source": [
    "## Creating the matrix"
   ]
  },
  {
   "cell_type": "code",
   "execution_count": null,
   "metadata": {
    "ExecuteTime": {
     "end_time": "2017-07-26T15:54:46.298641Z",
     "start_time": "2017-07-26T17:54:46.281641+02:00"
    },
    "collapsed": true,
    "hidden": true
   },
   "outputs": [],
   "source": [
    "def create_transition_matrix(names, memory):\n",
    "    number_of_states = len(state_labels(memory))\n",
    "    matrix = np.zeros((number_of_states, number_of_states))\n",
    "\n",
    "    #TODO\n",
    "    \n",
    "    return matrix"
   ]
  },
  {
   "cell_type": "code",
   "execution_count": null,
   "metadata": {
    "ExecuteTime": {
     "end_time": "2017-07-26T15:53:38.530641Z",
     "start_time": "2017-07-26T17:53:38.499641+02:00"
    },
    "collapsed": false,
    "hidden": true
   },
   "outputs": [],
   "source": [
    "# You will probably want to set memory to 1 for most debugging purposes\n",
    "memory = 1\n",
    "\n",
    "transition_matrix = create_transition_matrix(name_lists['angels'], memory=memory)"
   ]
  },
  {
   "cell_type": "code",
   "execution_count": null,
   "metadata": {
    "ExecuteTime": {
     "end_time": "2017-07-26T15:53:39.509641Z",
     "start_time": "2017-07-26T17:53:38.533641+02:00"
    },
    "collapsed": false,
    "hidden": true
   },
   "outputs": [],
   "source": [
    "sns.heatmap(transition_matrix, xticklabels=state_labels(memory), yticklabels=state_labels(memory))"
   ]
  },
  {
   "cell_type": "markdown",
   "metadata": {
    "heading_collapsed": true
   },
   "source": [
    "# Sampling single new names: The Python way"
   ]
  },
  {
   "cell_type": "markdown",
   "metadata": {
    "hidden": true
   },
   "source": [
    "Now that we have \"trained\" the model, we want to sample new names from it.\n",
    "We will start with a baseline solution to this which uses python generators to sample single names and will improve on this later using NumPy.\n",
    "You job is to implement this sampling process. But first you should find out how to use NumPy's `np.random`-Module to sample from discrete probabilitiy distributions."
   ]
  },
  {
   "cell_type": "markdown",
   "metadata": {
    "heading_collapsed": true,
    "hidden": true
   },
   "source": [
    "## Single discrete samples from a probability distribution"
   ]
  },
  {
   "cell_type": "code",
   "execution_count": null,
   "metadata": {
    "ExecuteTime": {
     "end_time": "2017-07-26T15:54:57.490641Z",
     "start_time": "2017-07-26T17:54:57.381641+02:00"
    },
    "collapsed": false,
    "hidden": true
   },
   "outputs": [],
   "source": [
    "probabilities = np.array([0.1, 0.2, 0.7])\n",
    "# Find or write a function which returns one of the numbers 0, 1 or 2 with respective probabilities 0.1, 0.2 and 0.7."
   ]
  },
  {
   "cell_type": "markdown",
   "metadata": {
    "heading_collapsed": true,
    "hidden": true
   },
   "source": [
    "## Single samples from a Markov chain"
   ]
  },
  {
   "cell_type": "code",
   "execution_count": null,
   "metadata": {
    "ExecuteTime": {
     "end_time": "2017-07-26T15:53:39.540641Z",
     "start_time": "2017-07-26T17:53:39.522641+02:00"
    },
    "collapsed": false,
    "hidden": true
   },
   "outputs": [],
   "source": [
    "def sample_name_generator(cumulative_transition_matrix, max_length=12):\n",
    "    state = start_index\n",
    "\n",
    "    for _ in range(max_length):\n",
    "        # TODO\n",
    "        \n",
    "        yield state"
   ]
  },
  {
   "cell_type": "code",
   "execution_count": null,
   "metadata": {
    "ExecuteTime": {
     "end_time": "2017-07-26T15:53:39.568641Z",
     "start_time": "2017-07-26T17:53:39.544641+02:00"
    },
    "collapsed": false,
    "hidden": true
   },
   "outputs": [],
   "source": [
    "def from_generator(num_names):\n",
    "    return [list(sample_name_generator(cumulative_transition_matrix)) for _ in range(num_names)]"
   ]
  },
  {
   "cell_type": "code",
   "execution_count": null,
   "metadata": {
    "ExecuteTime": {
     "end_time": "2017-07-26T15:53:39.595641Z",
     "start_time": "2017-07-26T17:53:39.574641+02:00"
    },
    "collapsed": false,
    "hidden": true
   },
   "outputs": [],
   "source": [
    "recover_all_strings(from_generator(15))"
   ]
  },
  {
   "cell_type": "code",
   "execution_count": null,
   "metadata": {
    "ExecuteTime": {
     "end_time": "2017-07-26T15:53:41.692641Z",
     "start_time": "2017-07-26T17:53:39.597641+02:00"
    },
    "collapsed": false,
    "hidden": true
   },
   "outputs": [],
   "source": [
    "%timeit from_generator(10 ** 3)"
   ]
  },
  {
   "cell_type": "markdown",
   "metadata": {
    "heading_collapsed": true
   },
   "source": [
    "# OPTIONAL: Recovering the good names"
   ]
  },
  {
   "cell_type": "markdown",
   "metadata": {
    "hidden": true
   },
   "source": [
    "The strings sampled from the model will often not really look like names.\n",
    "A common solution to this problem is to just sample more strings and only keep the ones which match some criteria for nice names.\n",
    "You can skip this task, implement suggested filters or come up with your own."
   ]
  },
  {
   "cell_type": "code",
   "execution_count": null,
   "metadata": {
    "ExecuteTime": {
     "end_time": "2017-07-26T15:53:41.703641Z",
     "start_time": "2017-07-26T17:53:41.695641+02:00"
    },
    "collapsed": true,
    "hidden": true
   },
   "outputs": [],
   "source": [
    "filters = [\n",
    "    lambda x: 3 < len(x),\n",
    "    # Some additional ideas:\n",
    "    # - A maximum length\n",
    "    # - Forbid 3 or more consecutive consonants\n",
    "]\n",
    "\n",
    "\n",
    "def nice_names(names):\n",
    "    def passes_all_filters(name):\n",
    "        return all(filter(name) for filter in filters)\n",
    "    \n",
    "    return list(filter(passes_all_filters, names))"
   ]
  },
  {
   "cell_type": "code",
   "execution_count": null,
   "metadata": {
    "ExecuteTime": {
     "end_time": "2017-07-26T15:53:41.736641Z",
     "start_time": "2017-07-26T17:53:41.706641+02:00"
    },
    "collapsed": false,
    "hidden": true
   },
   "outputs": [],
   "source": [
    "nice_names(recover_all_strings(from_generator(20)))"
   ]
  },
  {
   "cell_type": "markdown",
   "metadata": {
    "heading_collapsed": true
   },
   "source": [
    "# Sampling single new names: The NumPy way"
   ]
  },
  {
   "cell_type": "markdown",
   "metadata": {
    "hidden": true
   },
   "source": [
    "Instead of using Python's generators, we now want to use NumPy to speed up sampling from the Markov chain.\n",
    "Our goal is to sample many names at the same time (using one function call) instead of one name per Python generator.\n",
    "This is called \"vectorizing\" the operation.\n",
    "\n",
    "Before doing that we will implement the sampling of single names using NumPy as an intermediate step.\n",
    "The `sample_name_numpy` function should return a numpy array of dtype `np.int` containing the states you visited in the chain during sampling."
   ]
  },
  {
   "cell_type": "code",
   "execution_count": null,
   "metadata": {
    "ExecuteTime": {
     "end_time": "2017-07-26T15:53:41.755641Z",
     "start_time": "2017-07-26T17:53:41.741641+02:00"
    },
    "collapsed": true,
    "hidden": true
   },
   "outputs": [],
   "source": [
    "def sample_name_numpy(cumulative_transition_matrix, max_length=12):\n",
    "    state = np.full(max_length, end_index, dtype=np.int) # Why is this sensible?\n",
    "    state[0] = start_index\n",
    "\n",
    "    # TODO\n",
    "\n",
    "    return state"
   ]
  },
  {
   "cell_type": "code",
   "execution_count": null,
   "metadata": {
    "ExecuteTime": {
     "end_time": "2017-07-26T15:53:41.778641Z",
     "start_time": "2017-07-26T17:53:41.758641+02:00"
    },
    "collapsed": true,
    "hidden": true
   },
   "outputs": [],
   "source": [
    "def from_numpy(num_names):\n",
    "    return [sample_name_numpy(cumulative_transition_matrix) for _ in range(num_names)]"
   ]
  },
  {
   "cell_type": "code",
   "execution_count": null,
   "metadata": {
    "ExecuteTime": {
     "end_time": "2017-07-26T15:53:41.806641Z",
     "start_time": "2017-07-26T17:53:41.782641+02:00"
    },
    "collapsed": false,
    "hidden": true
   },
   "outputs": [],
   "source": [
    "nice_names(recover_all_strings(from_numpy(15)))"
   ]
  },
  {
   "cell_type": "code",
   "execution_count": null,
   "metadata": {
    "ExecuteTime": {
     "end_time": "2017-07-26T15:53:44.088641Z",
     "start_time": "2017-07-26T17:53:41.810641+02:00"
    },
    "collapsed": false,
    "hidden": true
   },
   "outputs": [],
   "source": [
    "%timeit from_numpy(10 ** 3)"
   ]
  },
  {
   "cell_type": "markdown",
   "metadata": {
    "heading_collapsed": true
   },
   "source": [
    "# Sampling multiple new names"
   ]
  },
  {
   "cell_type": "markdown",
   "metadata": {
    "hidden": true
   },
   "source": [
    "Now that we can use NumPy to sample single names from out model, we want to vectorize this operation and sample multiple names at once.\n",
    "The function `sample_names_vectorized` should return a 2D-array which contains one sample from the Markov chain per line.\n",
    "To achieve this in a fast way, you will need to sample from multiple discrete probability distributions at once."
   ]
  },
  {
   "cell_type": "markdown",
   "metadata": {
    "heading_collapsed": true,
    "hidden": true
   },
   "source": [
    "## Discrete samples from multiple probability distributions"
   ]
  },
  {
   "cell_type": "code",
   "execution_count": null,
   "metadata": {
    "ExecuteTime": {
     "end_time": "2017-07-26T15:53:44.089641Z",
     "start_time": "2017-07-26T15:53:36.608Z"
    },
    "collapsed": false,
    "hidden": true
   },
   "outputs": [],
   "source": [
    "probabilitiess = np.array([\n",
    "    [0.1, 0.2, 0.7],\n",
    "    [0.2, 0.3, 0.5],\n",
    "    [0.3, 0.4, 0.3],\n",
    "    [0.5, 0.3, 0.2],\n",
    "    [0.7, 0.2, 0.1],\n",
    "])\n",
    "# Find a function which, given the probabilitiess vector, returns a 1D-array of samples of size 5, one sample for each line.\n",
    "# There is no NumPy-function which directly implements this, so try to implement it yourself using other np.random functions.\n",
    "# You should NOT use a loop to achieve this."
   ]
  },
  {
   "cell_type": "markdown",
   "metadata": {
    "heading_collapsed": true,
    "hidden": true
   },
   "source": [
    "## Multiple samples from a Markov chain at the same time"
   ]
  },
  {
   "cell_type": "code",
   "execution_count": null,
   "metadata": {
    "ExecuteTime": {
     "end_time": "2017-07-26T15:53:44.089641Z",
     "start_time": "2017-07-26T15:53:36.612Z"
    },
    "collapsed": true,
    "hidden": true
   },
   "outputs": [],
   "source": [
    "def sample_names_vectorized(cumulative_transition_matrix, num_names=1, max_length=12):\n",
    "    states = np.full((num_names, max_length), end_index, dtype=np.int) # Why is this sensible?\n",
    "    states[:, 0] = start_index\n",
    "\n",
    "    # TODO\n",
    "    \n",
    "    return states"
   ]
  },
  {
   "cell_type": "code",
   "execution_count": null,
   "metadata": {
    "ExecuteTime": {
     "end_time": "2017-07-26T15:53:44.090641Z",
     "start_time": "2017-07-26T15:53:36.616Z"
    },
    "collapsed": true,
    "hidden": true
   },
   "outputs": [],
   "source": [
    "def from_vectorized(num_names):\n",
    "    return sample_names_vectorized(cumulative_transition_matrix, num_names=num_names)"
   ]
  },
  {
   "cell_type": "code",
   "execution_count": null,
   "metadata": {
    "ExecuteTime": {
     "end_time": "2017-07-26T15:53:44.091641Z",
     "start_time": "2017-07-26T15:53:36.618Z"
    },
    "collapsed": false,
    "hidden": true
   },
   "outputs": [],
   "source": [
    "nice_names(recover_all_strings(from_vectorized(15)))"
   ]
  },
  {
   "cell_type": "code",
   "execution_count": null,
   "metadata": {
    "ExecuteTime": {
     "end_time": "2017-07-26T15:53:44.092641Z",
     "start_time": "2017-07-26T15:53:36.621Z"
    },
    "collapsed": false,
    "hidden": true
   },
   "outputs": [],
   "source": [
    "%timeit from_vectorized(10 ** 3)"
   ]
  },
  {
   "cell_type": "markdown",
   "metadata": {
    "heading_collapsed": true
   },
   "source": [
    "# Comparing speeds"
   ]
  },
  {
   "cell_type": "markdown",
   "metadata": {
    "hidden": true
   },
   "source": [
    "Not that we have implemented the different strategies of sampling large amounts of names from the Markov chain, try to get a feeling of which solution is good when sampling how many names given what memory parameter. Can you explain the behaviour? Can you make things faster?"
   ]
  },
  {
   "cell_type": "code",
   "execution_count": null,
   "metadata": {
    "ExecuteTime": {
     "end_time": "2017-07-26T15:53:44.096641Z",
     "start_time": "2017-07-26T15:53:36.637Z"
    },
    "collapsed": false,
    "hidden": true
   },
   "outputs": [],
   "source": [
    "number_of_names = 10 ** 3\n",
    "\n",
    "%timeit from_generator(number_of_names)\n",
    "%timeit from_numpy(number_of_names)\n",
    "%timeit from_vectorized(number_of_names)"
   ]
  },
  {
   "cell_type": "code",
   "execution_count": null,
   "metadata": {
    "ExecuteTime": {
     "end_time": "2017-07-26T15:53:44.098641Z",
     "start_time": "2017-07-26T15:53:36.640Z"
    },
    "collapsed": false,
    "hidden": true
   },
   "outputs": [],
   "source": [
    "def get_sampling_measurements(samplers,args=np.logspace(0., 4.5, num=8, base=10., dtype=np.int)):\n",
    "    for sampler in samplers:\n",
    "        print(\"Measuring timings for\", sampler.__name__)\n",
    "        times = [\n",
    "            timeit.Timer(lambda: sampler(arg)).autorange() for arg in args\n",
    "        ]\n",
    "        yield args, [runtime / iters for iters, runtime in times]\n",
    "\n",
    "\n",
    "def plot_sampling_measurements(samplers, labels, title=''):\n",
    "    for (xs, ys), label in zip(get_sampling_measurements(samplers), labels):\n",
    "        plt.plot(xs, ys, label=label)\n",
    "\n",
    "    plt.xscale('log')\n",
    "    plt.yscale('log')\n",
    "    plt.xlabel('Number of names')\n",
    "    plt.ylabel('Runtime in seconds')\n",
    "    plt.legend()\n",
    "    plt.title(title)\n",
    "\n",
    "\n",
    "samplers = [\n",
    "    from_generator,\n",
    "    from_numpy,\n",
    "    from_vectorized,\n",
    "]\n",
    "\n",
    "labels = [\n",
    "    'Generator',\n",
    "    'Simple NumPy',\n",
    "    'Vectorized NumPy',\n",
    "]"
   ]
  },
  {
   "cell_type": "code",
   "execution_count": null,
   "metadata": {
    "ExecuteTime": {
     "end_time": "2017-07-26T15:53:44.098641Z",
     "start_time": "2017-07-26T15:53:36.644Z"
    },
    "collapsed": false,
    "hidden": true,
    "scrolled": false
   },
   "outputs": [],
   "source": [
    "transition_matrix = create_transition_matrix(name_lists['egypt_gods'], memory=1)\n",
    "cumulative_transition_matrix = np.cumsum(transition_matrix, axis=-1)\n",
    "\n",
    "plot_sampling_measurements(samplers, labels, title=\"Timings with Memory=1\")"
   ]
  },
  {
   "cell_type": "code",
   "execution_count": null,
   "metadata": {
    "ExecuteTime": {
     "end_time": "2017-07-26T15:53:44.099641Z",
     "start_time": "2017-07-26T15:53:36.648Z"
    },
    "collapsed": false,
    "hidden": true
   },
   "outputs": [],
   "source": [
    "transition_matrix = create_transition_matrix(name_lists['egypt_gods'], memory=2)\n",
    "cumulative_transition_matrix = np.cumsum(transition_matrix, axis=-1)\n",
    "\n",
    "plot_sampling_measurements(samplers, labels, title=\"Timings with Memory=2\")"
   ]
  },
  {
   "cell_type": "code",
   "execution_count": null,
   "metadata": {
    "collapsed": true,
    "hidden": true
   },
   "outputs": [],
   "source": []
  }
 ],
 "metadata": {
  "kernelspec": {
   "display_name": "Python 3",
   "language": "python",
   "name": "python3"
  },
  "language_info": {
   "codemirror_mode": {
    "name": "ipython",
    "version": 3
   },
   "file_extension": ".py",
   "mimetype": "text/x-python",
   "name": "python",
   "nbconvert_exporter": "python",
   "pygments_lexer": "ipython3",
   "version": "3.6.0"
  }
 },
 "nbformat": 4,
 "nbformat_minor": 2
}
