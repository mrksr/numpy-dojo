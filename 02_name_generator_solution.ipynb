{
 "cells": [
  {
   "cell_type": "markdown",
   "metadata": {},
   "source": [
    "Markov chain procedural name generation\n",
    "===\n",
    "\n",
    "The Model\n",
    "---\n",
    "In this notebook we develop a model for procedural name generation tool using [Markov chains](https://en.wikipedia.org/wiki/Markov_chain).\n",
    "We are given a set of names and are tasked with generating new ones which are similar but ideally not the same.\n",
    "We will use [n-grams](https://en.wikipedia.org/wiki/N-gram) extracted from the data set to derive a transition matrix of a Markov chain which can then, in turn, be used to generate new names letter by letter.\n",
    "Every state of the Markov chain represents a currently observed n-gram (plus a few special states) and the transition probabilities are based on the conditional probabilities of observing the next letter (or n-gram) in the training set.\n",
    "\n",
    "First we will only consider 1-grams, i.e. single letters. We say the model has a memory of 1. The state space of our Markov chain is then given by\n",
    "$$ V = \\{ \\hat{}, \\$, a, b, \\dots, y, z \\} $$\n",
    "where the $\\hat{}$ represents the start of a word and the $\\$$ represents the end of a word.\n",
    "Say our training set is a bit boring and only consists of the words \"abc\" and \"xbz\".\n",
    "Then our model should end up with the transition probabilities\n",
    "$$\\begin{align}\n",
    "p(\\hat{} \\to a) = p(\\hat{} \\to x) &= 0.5 \\\\\n",
    "p(a \\to b) &= 1 \\\\\n",
    "p(x \\to b) &= 1 \\\\\n",
    "p(b \\to c) = p(c \\to z) &= 0.5 \\\\ \n",
    "p(c \\to \\$) &= 1 \\\\\n",
    "p(z \\to \\$) &= 1 \\\\\n",
    "\\end{align}$$\n",
    "where all other probabilities are zero.\n",
    "In order to sample a new word from the chain, we start in the state $\\hat{}$ and keep sampling the next state until we end up in $\\$$, keeping track of the states we visited along the way.\n",
    "Every state then represents one letter in the generated name.\n",
    "For our simple training set, the set of all words we can possibly generate is given by\n",
    "$$\\{abc, xbz, abz, xzc\\}.$$\n",
    "\n",
    "In the case where we consider 2-grams or more (i.e. the memory of the model grows), the chain will have one state for every possible n-gram.\n",
    "The training and sampling procedures will remain the same but when generating a new word, we have to only consider the last (or first) letter in every n-gram we visit as part of the generated name.\n",
    "\n",
    "Your Tasks\n",
    "---\n",
    "You are already provided with some data sets (feel free to add your own) and code to handle the mapping from n-grams to state indices and back. You tasks are to:\n",
    "\n",
    "  1. Extract the transition probabilities from the training set and represent it using NumPy arrays\n",
    "  2. Sample a new name using Python generators\n",
    "  3. OPTIONAL: Come up with filters to improve the output\n",
    "  4. Sample a new name using NumPy facilities\n",
    "  5. Vectorize the NumPy-Solution\n",
    "  6. Compare running times\n",
    "  \n",
    "Our goal in the end is to be able to sample very large amounts of names from our Markov chain."
   ]
  },
  {
   "cell_type": "markdown",
   "metadata": {
    "heading_collapsed": true
   },
   "source": [
    "# Imports and settings"
   ]
  },
  {
   "cell_type": "code",
   "execution_count": 1,
   "metadata": {
    "hidden": true
   },
   "outputs": [],
   "source": [
    "import itertools as it\n",
    "import timeit"
   ]
  },
  {
   "cell_type": "code",
   "execution_count": 2,
   "metadata": {
    "hidden": true
   },
   "outputs": [],
   "source": [
    "import numpy as np\n",
    "import matplotlib.pyplot as plt\n",
    "import seaborn as sns # Optional for nicer plots\n",
    "sns.set()"
   ]
  },
  {
   "cell_type": "code",
   "execution_count": 3,
   "metadata": {
    "hidden": true
   },
   "outputs": [],
   "source": [
    "%matplotlib inline\n",
    "\n",
    "plt.rcParams['figure.figsize'] = (8, 8)\n",
    "plt.rcParams['figure.dpi'] = 110"
   ]
  },
  {
   "cell_type": "markdown",
   "metadata": {
    "heading_collapsed": true
   },
   "source": [
    "# Datasets"
   ]
  },
  {
   "cell_type": "code",
   "execution_count": 4,
   "metadata": {
    "hidden": true
   },
   "outputs": [],
   "source": [
    "def read_names(filename):\n",
    "    with open('data/{}'.format(filename), 'r', encoding='utf-8') as f:\n",
    "        return [line.strip() for line in f]\n",
    "\n",
    "name_lists = {\n",
    "    identifier: read_names(identifier)\n",
    "    for identifier in [\n",
    "        'debug',\n",
    "        'german_male', 'german_female',\n",
    "        'english_male', 'english_female',\n",
    "        'egypt_gods', 'norse_gods',\n",
    "        'angels', 'demons',\n",
    "    ]\n",
    "}"
   ]
  },
  {
   "cell_type": "code",
   "execution_count": 5,
   "metadata": {
    "hidden": true
   },
   "outputs": [
    {
     "data": {
      "text/plain": [
       "['odin',\n",
       " 'thor',\n",
       " 'baldur',\n",
       " 'njörd',\n",
       " 'freyr',\n",
       " 'tyr',\n",
       " 'bragi',\n",
       " 'heimdall',\n",
       " 'höd',\n",
       " 'vidar']"
      ]
     },
     "execution_count": 5,
     "metadata": {},
     "output_type": "execute_result"
    }
   ],
   "source": [
    "name_lists['norse_gods'][:10]"
   ]
  },
  {
   "cell_type": "markdown",
   "metadata": {
    "heading_collapsed": true
   },
   "source": [
    "# States of the Markov chain"
   ]
  },
  {
   "cell_type": "code",
   "execution_count": 6,
   "metadata": {
    "hidden": true
   },
   "outputs": [],
   "source": [
    "delimiters = ['^', '$']\n",
    "vowels = ['a', 'e', 'i', 'o', 'u', 'ö', 'ü', 'ä']\n",
    "consonants = [\n",
    "    'b', 'c', 'd', 'f', 'g', 'h', 'j', 'k',\n",
    "    'l', 'm', 'n', 'p', 'q', 'r', 's', 't',\n",
    "    'v', 'w', 'x', 'y', 'z',\n",
    "]\n",
    "characters = sorted(it.chain(vowels, consonants))\n",
    "reverse_characters = {char: ix for ix, char in enumerate(characters)}\n",
    "state_base = len(characters)"
   ]
  },
  {
   "cell_type": "code",
   "execution_count": 7,
   "metadata": {
    "hidden": true
   },
   "outputs": [],
   "source": [
    "def state_index(chars):\n",
    "    if chars in delimiters:\n",
    "        return delimiters.index(chars)\n",
    "    else:\n",
    "        offset = len(delimiters) + sum(len(characters) ** b for b in range(1, len(chars)))\n",
    "        return offset + sum(\n",
    "            reverse_characters[char] * state_base ** exponent\n",
    "            for exponent, char in enumerate(reversed(chars))\n",
    "        )\n",
    "    \n",
    "    \n",
    "def state_labels(memory=1):\n",
    "    return list(it.chain(\n",
    "        delimiters,\n",
    "        *(\n",
    "            map(''.join, it.product(characters, repeat=repeat))\n",
    "            for repeat in range(1, memory + 1)\n",
    "        )\n",
    "    ))    \n",
    "\n",
    "\n",
    "def last_character(state):\n",
    "    if state < len(delimiters):\n",
    "        return delimiters[state]\n",
    "    else:\n",
    "        return characters[(state - len(delimiters)) % state_base]\n",
    "\n",
    "\n",
    "def recover_string(states):\n",
    "    return ''.join(map(last_character, states)).strip(''.join(delimiters))\n",
    "\n",
    "\n",
    "def recover_all_strings(statess):\n",
    "    return [\n",
    "        recover_string(states)\n",
    "        for states in statess\n",
    "    ]"
   ]
  },
  {
   "cell_type": "code",
   "execution_count": 8,
   "metadata": {
    "hidden": true
   },
   "outputs": [],
   "source": [
    "start_index = state_index('^')\n",
    "end_index = state_index('$')"
   ]
  },
  {
   "cell_type": "code",
   "execution_count": 9,
   "metadata": {
    "hidden": true
   },
   "outputs": [
    {
     "name": "stdout",
     "output_type": "stream",
     "text": [
      "Index of state   ^: 0\n",
      "Index of state   $: 1\n",
      "Index of state   a: 2\n",
      "Index of state   b: 3\n",
      "Index of state   z: 27\n",
      "Index of state   ü: 30\n",
      "Index of state  aa: 31\n",
      "Index of state  ab: 32\n",
      "Index of state  ba: 60\n",
      "Index of state  zz: 781\n",
      "Index of state aaa: 872\n",
      "Index of state üüü: 25260\n"
     ]
    }
   ],
   "source": [
    "for string in ['^', '$', 'a', 'b', 'z', 'ü', 'aa', 'ab', 'ba', 'zz', 'aaa', 'üüü']:\n",
    "    print('Index of state {:>3}: {}'.format(string, state_index(string)))"
   ]
  },
  {
   "cell_type": "code",
   "execution_count": 10,
   "metadata": {
    "hidden": true
   },
   "outputs": [
    {
     "data": {
      "text/plain": [
       "('a', 'c')"
      ]
     },
     "execution_count": 10,
     "metadata": {},
     "output_type": "execute_result"
    }
   ],
   "source": [
    "last_character(state_index('a')), last_character(state_index('abc'))"
   ]
  },
  {
   "cell_type": "code",
   "execution_count": 11,
   "metadata": {
    "hidden": true
   },
   "outputs": [
    {
     "data": {
      "text/plain": [
       "'siemens'"
      ]
     },
     "execution_count": 11,
     "metadata": {},
     "output_type": "execute_result"
    }
   ],
   "source": [
    "recover_string([state_index(char) for char in 'siemens'])"
   ]
  },
  {
   "cell_type": "code",
   "execution_count": 12,
   "metadata": {
    "hidden": true
   },
   "outputs": [
    {
     "data": {
      "text/plain": [
       "['ingenuity', 'for', 'life']"
      ]
     },
     "execution_count": 12,
     "metadata": {},
     "output_type": "execute_result"
    }
   ],
   "source": [
    "recover_all_strings([\n",
    "    [state_index(char) for char in 'ingenuity'],\n",
    "    [state_index(char) for char in 'for'],\n",
    "    [state_index(char) for char in 'life'],\n",
    "])"
   ]
  },
  {
   "cell_type": "markdown",
   "metadata": {
    "heading_collapsed": true
   },
   "source": [
    "# Creating a transition matrix"
   ]
  },
  {
   "cell_type": "markdown",
   "metadata": {
    "hidden": true
   },
   "source": [
    "Markov chains are often represented using transition matrices.\n",
    "If $N$ is the number of states in a markov chain, its corresponding transition matrix $T$ is of size $N \\times N$ and it holds that\n",
    "$$T_{ij} = p(i \\to j),$$\n",
    "i.e. the entry in the $i$th line and $j$th column represents the probabilitiy to transition from state $i$ to state $j$.\n",
    "Note that this implies that for all $i$,\n",
    "$$\\sum_j T_{ij} = 1.$$\n",
    "Do you understand why?\n",
    "\n",
    "In this section we want to derive the transition matrix corresponding to a training set.\n",
    "The first section provides code which translates the incoming words to the observations of state transitions we are interested in.\n",
    "In the second section, you job is to actually generate the transition matrix."
   ]
  },
  {
   "cell_type": "markdown",
   "metadata": {
    "heading_collapsed": true,
    "hidden": true
   },
   "source": [
    "## Handling the input"
   ]
  },
  {
   "cell_type": "code",
   "execution_count": 13,
   "metadata": {
    "hidden": true
   },
   "outputs": [],
   "source": [
    "def windowed(iterable, size):\n",
    "    \"\"\"Create a sliding window iterator over iterable.\n",
    "    \n",
    "    Given iterable=[a, b, c, d] and size=3, the result is a generator containing [(a, b, c), (b, c, d)]\n",
    "    \"\"\"\n",
    "    parts = it.tee(iterable, size)\n",
    "\n",
    "    for skip, part in enumerate(parts):\n",
    "        for _ in range(skip):\n",
    "            next(part, None)\n",
    "\n",
    "    return zip(*parts)"
   ]
  },
  {
   "cell_type": "code",
   "execution_count": 14,
   "metadata": {
    "hidden": true
   },
   "outputs": [],
   "source": [
    "def name_to_state_pairs(name, memory):\n",
    "    states = it.chain(\n",
    "        '^', # Start state\n",
    "        (tuple(name[:m]) for m in range(1, memory)), # Initial memory-free letters\n",
    "        windowed(name, memory), # Letters with memory\n",
    "        ['$'], # End state\n",
    "    )\n",
    "    return windowed(map(state_index, states), 2)"
   ]
  },
  {
   "cell_type": "code",
   "execution_count": 15,
   "metadata": {
    "hidden": true
   },
   "outputs": [
    {
     "data": {
      "text/plain": [
       "([(0, 2), (2, 3), (3, 4), (4, 5), (5, 6), (6, 7), (7, 1)],\n",
       " [(0, 2), (2, 32), (32, 62), (62, 92), (92, 122), (122, 152), (152, 1)])"
      ]
     },
     "execution_count": 15,
     "metadata": {},
     "output_type": "execute_result"
    }
   ],
   "source": [
    "list(name_to_state_pairs('abcdef', memory=1)), list(name_to_state_pairs('abcdef', memory=2))"
   ]
  },
  {
   "cell_type": "markdown",
   "metadata": {
    "heading_collapsed": true,
    "hidden": true
   },
   "source": [
    "## Creating the matrix"
   ]
  },
  {
   "cell_type": "code",
   "execution_count": 16,
   "metadata": {
    "hidden": true
   },
   "outputs": [],
   "source": [
    "def create_transition_matrix(names, memory):\n",
    "    number_of_states = len(state_labels(memory))\n",
    "    matrix = np.zeros((number_of_states, number_of_states))\n",
    "\n",
    "    matrix[end_index, end_index] = 1\n",
    "    for name in names:\n",
    "        for left, right in name_to_state_pairs(name, memory):\n",
    "            matrix[left, right] += 1\n",
    "\n",
    "    sums = matrix.sum(axis=1)\n",
    "    sums[sums == 0] = 1\n",
    "    matrix /= sums[:, None]\n",
    "    return matrix"
   ]
  },
  {
   "cell_type": "code",
   "execution_count": 17,
   "metadata": {
    "hidden": true
   },
   "outputs": [],
   "source": [
    "# You will probably want to set memory to 1 for most debugging purposes\n",
    "memory = 1\n",
    "\n",
    "transition_matrix = create_transition_matrix(name_lists['angels'], memory=memory)\n",
    "# We will need this later\n",
    "cumulative_transition_matrix = np.cumsum(transition_matrix, axis=-1)"
   ]
  },
  {
   "cell_type": "code",
   "execution_count": 18,
   "metadata": {
    "hidden": true
   },
   "outputs": [
    {
     "data": {
      "text/plain": [
       "<matplotlib.axes._subplots.AxesSubplot at 0x7f19e2da48d0>"
      ]
     },
     "execution_count": 18,
     "metadata": {},
     "output_type": "execute_result"
    },
    {
     "data": {
      "image/png": "[encoded data removed]",
      "text/plain": [
       "<Figure size 880x880 with 2 Axes>"
      ]
     },
     "metadata": {
      "needs_background": "light"
     },
     "output_type": "display_data"
    }
   ],
   "source": [
    "sns.heatmap(transition_matrix, xticklabels=state_labels(memory), yticklabels=state_labels(memory))"
   ]
  },
  {
   "cell_type": "code",
   "execution_count": 19,
   "metadata": {
    "hidden": true
   },
   "outputs": [
    {
     "data": {
      "text/plain": [
       "<matplotlib.axes._subplots.AxesSubplot at 0x7f19da6eab10>"
      ]
     },
     "execution_count": 19,
     "metadata": {},
     "output_type": "execute_result"
    },
    {
     "data": {
      "image/png": "[encoded data removed]",
      "text/plain": [
       "<Figure size 880x880 with 2 Axes>"
      ]
     },
     "metadata": {
      "needs_background": "light"
     },
     "output_type": "display_data"
    }
   ],
   "source": [
    "sns.heatmap(cumulative_transition_matrix, xticklabels=state_labels(memory), yticklabels=state_labels(memory))"
   ]
  },
  {
   "cell_type": "markdown",
   "metadata": {
    "heading_collapsed": true
   },
   "source": [
    "# Sampling single new names: The Python way"
   ]
  },
  {
   "cell_type": "markdown",
   "metadata": {
    "hidden": true
   },
   "source": [
    "Now that we have \"trained\" the model, we want to sample new names from it.\n",
    "We will start with a baseline solution to this which uses python generators to sample single names and will improve on this later using NumPy.\n",
    "You job is to implement this sampling process. But first you should find out how to use NumPy's `np.random`-Module to sample from discrete probabilitiy distributions."
   ]
  },
  {
   "cell_type": "markdown",
   "metadata": {
    "hidden": true
   },
   "source": [
    "## Single discrete samples from a probability distribution"
   ]
  },
  {
   "cell_type": "code",
   "execution_count": 20,
   "metadata": {
    "hidden": true
   },
   "outputs": [
    {
     "data": {
      "text/plain": [
       "1"
      ]
     },
     "execution_count": 20,
     "metadata": {},
     "output_type": "execute_result"
    }
   ],
   "source": [
    "probabilities = np.array([0.1, 0.2, 0.7])\n",
    "# Find or write a function which returns one of the numbers 0, 1 or 2 with respective probabilities 0.1, 0.2 and 0.7.\n",
    "\n",
    "np.random.choice(probabilities.size, p=probabilities)"
   ]
  },
  {
   "cell_type": "markdown",
   "metadata": {
    "hidden": true
   },
   "source": [
    "## Single samples from a Markov chain"
   ]
  },
  {
   "cell_type": "code",
   "execution_count": 21,
   "metadata": {
    "hidden": true
   },
   "outputs": [],
   "source": [
    "def sample_name_generator(cumulative_transition_matrix, max_length=12):\n",
    "    state = start_index\n",
    "\n",
    "    for _ in range(max_length):\n",
    "        cdf_sample = np.random.uniform()\n",
    "        state = (cumulative_transition_matrix[state] <= cdf_sample).sum()\n",
    "\n",
    "        if state == end_index:\n",
    "            break\n",
    "        else:\n",
    "            yield state"
   ]
  },
  {
   "cell_type": "code",
   "execution_count": 22,
   "metadata": {
    "hidden": true
   },
   "outputs": [],
   "source": [
    "def from_generator(num_names):\n",
    "    return [list(sample_name_generator(cumulative_transition_matrix)) for _ in range(num_names)]"
   ]
  },
  {
   "cell_type": "code",
   "execution_count": 23,
   "metadata": {
    "hidden": true
   },
   "outputs": [
    {
     "data": {
      "text/plain": [
       "['mamarunamiel',\n",
       " 'sel',\n",
       " 'vel',\n",
       " 'al',\n",
       " 'tzel',\n",
       " 'sachael',\n",
       " 'zanin',\n",
       " 'mapadkahimue',\n",
       " 's',\n",
       " 'wodduem',\n",
       " 'nel',\n",
       " 't',\n",
       " 'anuniel',\n",
       " 'zan',\n",
       " 'imiegamua']"
      ]
     },
     "execution_count": 23,
     "metadata": {},
     "output_type": "execute_result"
    }
   ],
   "source": [
    "recover_all_strings(from_generator(15))"
   ]
  },
  {
   "cell_type": "code",
   "execution_count": 24,
   "metadata": {
    "hidden": true
   },
   "outputs": [
    {
     "name": "stdout",
     "output_type": "stream",
     "text": [
      "66.4 ms ± 1 ms per loop (mean ± std. dev. of 7 runs, 10 loops each)\n"
     ]
    }
   ],
   "source": [
    "%timeit from_generator(10 ** 3)"
   ]
  },
  {
   "cell_type": "markdown",
   "metadata": {
    "heading_collapsed": true
   },
   "source": [
    "# OPTIONAL: Recovering the good names"
   ]
  },
  {
   "cell_type": "markdown",
   "metadata": {
    "hidden": true
   },
   "source": [
    "The strings sampled from the model will often not really look like names.\n",
    "A common solution to this problem is to just sample more strings and only keep the ones which match some criteria for nice names.\n",
    "You can skip this task, implement suggested filters or come up with your own."
   ]
  },
  {
   "cell_type": "code",
   "execution_count": 25,
   "metadata": {
    "hidden": true
   },
   "outputs": [],
   "source": [
    "filters = [\n",
    "    lambda x: 3 < len(x) < 10,\n",
    "    # Some additional ideas:\n",
    "    # - A maximum length\n",
    "    # - Forbid 3 or more consecutive consonants\n",
    "    lambda x: not any(all(c in consonants for c in window) for window in windowed(x, 3)),\n",
    "]\n",
    "\n",
    "\n",
    "def nice_names(names):\n",
    "    def passes_all_filters(name):\n",
    "        return all(filter(name) for filter in filters)\n",
    "    \n",
    "    return list(filter(passes_all_filters, names))"
   ]
  },
  {
   "cell_type": "code",
   "execution_count": 26,
   "metadata": {
    "hidden": true
   },
   "outputs": [
    {
     "data": {
      "text/plain": [
       "['phabaniel',\n",
       " 'diel',\n",
       " 'zierah',\n",
       " 'zatel',\n",
       " 'nuel',\n",
       " 'uerannubi',\n",
       " 'madan',\n",
       " 'raris',\n",
       " 'kial',\n",
       " 'dkuatzar',\n",
       " 'mimel',\n",
       " 'zahrel',\n",
       " 'heel',\n",
       " 'riehmal']"
      ]
     },
     "execution_count": 26,
     "metadata": {},
     "output_type": "execute_result"
    }
   ],
   "source": [
    "nice_names(recover_all_strings(from_generator(20)))"
   ]
  },
  {
   "cell_type": "markdown",
   "metadata": {
    "heading_collapsed": true
   },
   "source": [
    "# Sampling single new names: The NumPy way"
   ]
  },
  {
   "cell_type": "markdown",
   "metadata": {
    "hidden": true
   },
   "source": [
    "Instead of using Python's generators, we now want to use NumPy to speed up sampling from the Markov chain.\n",
    "Our goal is to sample many names at the same time (using one function call) instead of one name per Python generator.\n",
    "This is called \"vectorizing\" the operation.\n",
    "\n",
    "Before doing that we will implement the sampling of single names using NumPy as an intermediate step.\n",
    "The `sample_name_numpy` function should return a numpy array of dtype `np.int` containing the states you visited in the chain during sampling."
   ]
  },
  {
   "cell_type": "code",
   "execution_count": 27,
   "metadata": {
    "hidden": true
   },
   "outputs": [],
   "source": [
    "def sample_name_numpy(cumulative_transition_matrix, max_length=12):\n",
    "    state = np.full(max_length, end_index, dtype=np.int) # Why is this sensible?\n",
    "    state[0] = start_index\n",
    "\n",
    "    for ix in range(1, max_length):\n",
    "        cdf_sample = np.random.uniform()\n",
    "        state[ix] = (cumulative_transition_matrix[state[ix - 1]] <= cdf_sample).sum()\n",
    "\n",
    "        if state[ix] == end_index:\n",
    "            break\n",
    "\n",
    "    return state"
   ]
  },
  {
   "cell_type": "code",
   "execution_count": 28,
   "metadata": {
    "hidden": true
   },
   "outputs": [],
   "source": [
    "def from_numpy(num_names):\n",
    "    return [sample_name_numpy(cumulative_transition_matrix) for _ in range(num_names)]"
   ]
  },
  {
   "cell_type": "code",
   "execution_count": 29,
   "metadata": {
    "hidden": true
   },
   "outputs": [
    {
     "data": {
      "text/plain": [
       "['nkel', 'qiel', 'razaraph', 'wonira']"
      ]
     },
     "execution_count": 29,
     "metadata": {},
     "output_type": "execute_result"
    }
   ],
   "source": [
    "nice_names(recover_all_strings(from_numpy(15)))"
   ]
  },
  {
   "cell_type": "code",
   "execution_count": 30,
   "metadata": {
    "hidden": true
   },
   "outputs": [
    {
     "name": "stdout",
     "output_type": "stream",
     "text": [
      "73.2 ms ± 877 µs per loop (mean ± std. dev. of 7 runs, 10 loops each)\n"
     ]
    }
   ],
   "source": [
    "%timeit from_numpy(10 ** 3)"
   ]
  },
  {
   "cell_type": "markdown",
   "metadata": {
    "heading_collapsed": true
   },
   "source": [
    "# Sampling multiple new names"
   ]
  },
  {
   "cell_type": "markdown",
   "metadata": {
    "hidden": true
   },
   "source": [
    "Now that we can use NumPy to sample single names from out model, we want to vectorize this operation and sample multiple names at once.\n",
    "The function `sample_names_vectorized` should return a 2D-array which contains one sample from the Markov chain per line.\n",
    "To achieve this in a fast way, you will need to sample from multiple discrete probability distributions at once."
   ]
  },
  {
   "cell_type": "markdown",
   "metadata": {
    "heading_collapsed": true,
    "hidden": true
   },
   "source": [
    "## Discrete samples from multiple probability distributions"
   ]
  },
  {
   "cell_type": "code",
   "execution_count": 31,
   "metadata": {
    "hidden": true
   },
   "outputs": [
    {
     "data": {
      "text/plain": [
       "array([2, 1, 2, 0, 0])"
      ]
     },
     "execution_count": 31,
     "metadata": {},
     "output_type": "execute_result"
    }
   ],
   "source": [
    "probabilitiess = np.array([\n",
    "    [0.1, 0.2, 0.7],\n",
    "    [0.2, 0.3, 0.5],\n",
    "    [0.3, 0.4, 0.3],\n",
    "    [0.5, 0.3, 0.2],\n",
    "    [0.7, 0.2, 0.1],\n",
    "])\n",
    "# Find a function which, given the probabilitiess vector, returns a 1D-array of samples of size 5, one sample for each line.\n",
    "# There is no NumPy-function which directly implements this, so try to implement it yourself using other np.random functions.\n",
    "# You should NOT use a loop to achieve this.\n",
    "\n",
    "(probabilitiess.cumsum(axis=-1) <= np.random.uniform(size=(len(probabilitiess), 1))).sum(axis=-1)"
   ]
  },
  {
   "cell_type": "markdown",
   "metadata": {
    "heading_collapsed": true,
    "hidden": true
   },
   "source": [
    "## Multiple samples from a Markov chain at the same time"
   ]
  },
  {
   "cell_type": "code",
   "execution_count": 32,
   "metadata": {
    "hidden": true
   },
   "outputs": [],
   "source": [
    "def sample_names_vectorized(cumulative_transition_matrix, num_names=1, max_length=12):\n",
    "    states = np.full((num_names, max_length), end_index, dtype=np.int) # Why is this sensible?\n",
    "    states[:, 0] = start_index\n",
    "\n",
    "    for column in range(1, max_length):\n",
    "        cdf_sample = np.random.uniform(size=(num_names, 1))\n",
    "        cprobs = cumulative_transition_matrix[states[:, column - 1]]\n",
    "        states[:, column] = (cprobs <= cdf_sample).sum(axis=1)\n",
    "\n",
    "    return states"
   ]
  },
  {
   "cell_type": "code",
   "execution_count": 33,
   "metadata": {
    "hidden": true
   },
   "outputs": [],
   "source": [
    "def from_vectorized(num_names):\n",
    "    return sample_names_vectorized(cumulative_transition_matrix, num_names=num_names)"
   ]
  },
  {
   "cell_type": "code",
   "execution_count": 34,
   "metadata": {
    "hidden": true
   },
   "outputs": [
    {
     "data": {
      "text/plain": [
       "['thaqurat', 'athie', 'amahkir', 'wonuci', 'wonutzel', 'madrel']"
      ]
     },
     "execution_count": 34,
     "metadata": {},
     "output_type": "execute_result"
    }
   ],
   "source": [
    "nice_names(recover_all_strings(from_vectorized(15)))"
   ]
  },
  {
   "cell_type": "code",
   "execution_count": 35,
   "metadata": {
    "hidden": true
   },
   "outputs": [
    {
     "name": "stdout",
     "output_type": "stream",
     "text": [
      "1.74 ms ± 41.6 µs per loop (mean ± std. dev. of 7 runs, 1000 loops each)\n"
     ]
    }
   ],
   "source": [
    "%timeit from_vectorized(10 ** 3)"
   ]
  },
  {
   "cell_type": "code",
   "execution_count": 36,
   "metadata": {
    "hidden": true
   },
   "outputs": [],
   "source": [
    "def sample_names_vectorized_presample(cumulative_transition_matrix, num_names=1, max_length=12, samples_per_state=50):\n",
    "    num_states = cumulative_transition_matrix.shape[0]\n",
    "    cdf_samples = np.random.uniform(size=(samples_per_state, num_states, 1))\n",
    "    next_states = (cumulative_transition_matrix <= cdf_samples).sum(axis=-1)\n",
    "    sample_indices = np.random.choice(samples_per_state, size=(num_names, max_length))\n",
    "    \n",
    "    states = np.full((num_names, max_length), end_index, dtype=np.int)\n",
    "    states[:, 0] = start_index\n",
    "    for column in range(1, max_length):\n",
    "        states[:, column] = next_states[sample_indices[:, column], states[:, column-1]]\n",
    "        \n",
    "    return states"
   ]
  },
  {
   "cell_type": "code",
   "execution_count": 37,
   "metadata": {
    "hidden": true
   },
   "outputs": [],
   "source": [
    "def from_presampled(num_names):\n",
    "    return sample_names_vectorized_presample(cumulative_transition_matrix, num_names=num_names)"
   ]
  },
  {
   "cell_type": "code",
   "execution_count": 38,
   "metadata": {
    "hidden": true
   },
   "outputs": [
    {
     "data": {
      "text/plain": [
       "['miel', 'teturtel', 'addophiel', 'anuahel', 'miel', 'zohal', 'phadon']"
      ]
     },
     "execution_count": 38,
     "metadata": {},
     "output_type": "execute_result"
    }
   ],
   "source": [
    "nice_names(recover_all_strings(from_presampled(15)))"
   ]
  },
  {
   "cell_type": "code",
   "execution_count": 39,
   "metadata": {
    "hidden": true
   },
   "outputs": [
    {
     "name": "stdout",
     "output_type": "stream",
     "text": [
      "569 µs ± 21 µs per loop (mean ± std. dev. of 7 runs, 1000 loops each)\n"
     ]
    }
   ],
   "source": [
    "%timeit from_presampled(10 ** 3)"
   ]
  },
  {
   "cell_type": "markdown",
   "metadata": {
    "heading_collapsed": true
   },
   "source": [
    "# Comparing speeds"
   ]
  },
  {
   "cell_type": "markdown",
   "metadata": {
    "hidden": true
   },
   "source": [
    "Not that we have implemented the different strategies of sampling large amounts of names from the Markov chain, try to get a feeling of which solution is good when sampling how many names given what memory parameter. Can you explain the behaviour? Can you make things faster?"
   ]
  },
  {
   "cell_type": "code",
   "execution_count": 40,
   "metadata": {
    "hidden": true
   },
   "outputs": [
    {
     "name": "stdout",
     "output_type": "stream",
     "text": [
      "68 ms ± 1.08 ms per loop (mean ± std. dev. of 7 runs, 10 loops each)\n",
      "73.7 ms ± 1.29 ms per loop (mean ± std. dev. of 7 runs, 10 loops each)\n",
      "1.72 ms ± 10.8 µs per loop (mean ± std. dev. of 7 runs, 1000 loops each)\n",
      "553 µs ± 4.74 µs per loop (mean ± std. dev. of 7 runs, 1000 loops each)\n"
     ]
    }
   ],
   "source": [
    "number_of_names = 10 ** 3\n",
    "\n",
    "%timeit from_generator(number_of_names)\n",
    "%timeit from_numpy(number_of_names)\n",
    "%timeit from_vectorized(number_of_names)\n",
    "%timeit from_presampled(number_of_names)"
   ]
  },
  {
   "cell_type": "code",
   "execution_count": 41,
   "metadata": {
    "hidden": true
   },
   "outputs": [],
   "source": [
    "def get_sampling_measurements(samplers,args=np.logspace(0., 4.5, num=8, base=10., dtype=np.int)):\n",
    "    for sampler in samplers:\n",
    "        print(\"Measuring timings for\", sampler.__name__)\n",
    "        times = [\n",
    "            timeit.Timer(lambda: sampler(arg)).autorange() for arg in args\n",
    "        ]\n",
    "        yield args, [runtime / iters for iters, runtime in times]\n",
    "\n",
    "\n",
    "def plot_sampling_measurements(samplers, labels, title=''):\n",
    "    for (xs, ys), label in zip(get_sampling_measurements(samplers), labels):\n",
    "        plt.plot(xs, ys, label=label)\n",
    "\n",
    "    plt.xscale('log')\n",
    "    plt.yscale('log')\n",
    "    plt.xlabel('Number of names')\n",
    "    plt.ylabel('Runtime in seconds')\n",
    "    plt.legend()\n",
    "    plt.title(title)\n",
    "\n",
    "\n",
    "samplers = [\n",
    "    from_generator,\n",
    "    from_numpy,\n",
    "    from_vectorized,\n",
    "    from_presampled,\n",
    "]\n",
    "\n",
    "labels = [\n",
    "    'Generator',\n",
    "    'Simple NumPy',\n",
    "    'Vectorized NumPy',\n",
    "    'Vectorized NumPy with presampling',\n",
    "]"
   ]
  },
  {
   "cell_type": "code",
   "execution_count": 42,
   "metadata": {
    "hidden": true
   },
   "outputs": [
    {
     "name": "stdout",
     "output_type": "stream",
     "text": [
      "Measuring timings for from_generator\n",
      "Measuring timings for from_numpy\n",
      "Measuring timings for from_vectorized\n",
      "Measuring timings for from_presampled\n"
     ]
    },
    {
     "data": {
      "image/png": "[encoded data removed]",
      "text/plain": [
       "<Figure size 880x880 with 1 Axes>"
      ]
     },
     "metadata": {
      "needs_background": "light"
     },
     "output_type": "display_data"
    }
   ],
   "source": [
    "transition_matrix = create_transition_matrix(name_lists['egypt_gods'], memory=1)\n",
    "cumulative_transition_matrix = np.cumsum(transition_matrix, axis=-1)\n",
    "\n",
    "plot_sampling_measurements(samplers, labels, title=\"Timings with Memory=1\")"
   ]
  },
  {
   "cell_type": "code",
   "execution_count": 43,
   "metadata": {
    "hidden": true
   },
   "outputs": [
    {
     "name": "stdout",
     "output_type": "stream",
     "text": [
      "Measuring timings for from_generator\n",
      "Measuring timings for from_numpy\n",
      "Measuring timings for from_vectorized\n",
      "Measuring timings for from_presampled\n"
     ]
    },
    {
     "data": {
      "image/png": "[encoded data removed]",
      "text/plain": [
       "<Figure size 880x880 with 1 Axes>"
      ]
     },
     "metadata": {
      "needs_background": "light"
     },
     "output_type": "display_data"
    }
   ],
   "source": [
    "transition_matrix = create_transition_matrix(name_lists['egypt_gods'], memory=2)\n",
    "cumulative_transition_matrix = np.cumsum(transition_matrix, axis=-1)\n",
    "\n",
    "plot_sampling_measurements(samplers, labels, title=\"Timings with Memory=2\")"
   ]
  },
  {
   "cell_type": "code",
   "execution_count": 44,
   "metadata": {
    "hidden": true
   },
   "outputs": [
    {
     "name": "stdout",
     "output_type": "stream",
     "text": [
      "6.48 s ± 225 ms per loop (mean ± std. dev. of 7 runs, 1 loop each)\n"
     ]
    }
   ],
   "source": [
    "%timeit from_presampled(10 ** 7)"
   ]
  },
  {
   "cell_type": "code",
   "execution_count": null,
   "metadata": {
    "hidden": true
   },
   "outputs": [],
   "source": []
  }
 ],
 "metadata": {
  "kernelspec": {
   "display_name": "Python 3",
   "language": "python",
   "name": "python3"
  },
  "language_info": {
   "codemirror_mode": {
    "name": "ipython",
    "version": 3
   },
   "file_extension": ".py",
   "mimetype": "text/x-python",
   "name": "python",
   "nbconvert_exporter": "python",
   "pygments_lexer": "ipython3",
   "version": "3.7.4"
  }
 },
 "nbformat": 4,
 "nbformat_minor": 4
}
