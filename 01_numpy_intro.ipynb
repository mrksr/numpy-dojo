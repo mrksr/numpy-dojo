{
 "cells": [
  {
   "cell_type": "code",
   "execution_count": null,
   "metadata": {
    "ExecuteTime": {
     "end_time": "2017-07-26T14:11:18.475948Z",
     "start_time": "2017-07-26T16:11:18.323933+02:00"
    },
    "collapsed": true
   },
   "outputs": [],
   "source": [
    "import numpy as np"
   ]
  },
  {
   "cell_type": "markdown",
   "metadata": {},
   "source": [
    "# Why numpy?"
   ]
  },
  {
   "cell_type": "code",
   "execution_count": null,
   "metadata": {
    "ExecuteTime": {
     "end_time": "2017-07-26T14:11:18.495950Z",
     "start_time": "2017-07-26T16:11:18.478949+02:00"
    },
    "collapsed": false
   },
   "outputs": [],
   "source": [
    "numbers = list(range(10 ** 4))\n",
    "\n",
    "numbers[:10]"
   ]
  },
  {
   "cell_type": "code",
   "execution_count": null,
   "metadata": {
    "ExecuteTime": {
     "end_time": "2017-07-26T14:11:22.058306Z",
     "start_time": "2017-07-26T16:11:18.497950+02:00"
    },
    "collapsed": false
   },
   "outputs": [],
   "source": [
    "def my_first_sum(numbers):\n",
    "    sum = 0\n",
    "    for i in range(len(numbers)):\n",
    "        sum += numbers[i]\n",
    "    return sum\n",
    "\n",
    "%timeit my_first_sum(numbers)"
   ]
  },
  {
   "cell_type": "code",
   "execution_count": null,
   "metadata": {
    "ExecuteTime": {
     "end_time": "2017-07-26T14:11:24.099511Z",
     "start_time": "2017-07-26T16:11:22.061307+02:00"
    },
    "collapsed": false
   },
   "outputs": [],
   "source": [
    "def my_second_sum(numbers):\n",
    "    sum = 0\n",
    "    for number in numbers:\n",
    "        sum += number\n",
    "    return sum\n",
    "\n",
    "%timeit my_second_sum(numbers)"
   ]
  },
  {
   "cell_type": "code",
   "execution_count": null,
   "metadata": {
    "ExecuteTime": {
     "end_time": "2017-07-26T14:11:27.585859Z",
     "start_time": "2017-07-26T16:11:24.101511+02:00"
    },
    "collapsed": false
   },
   "outputs": [],
   "source": [
    "%timeit sum(numbers)"
   ]
  },
  {
   "cell_type": "code",
   "execution_count": null,
   "metadata": {
    "ExecuteTime": {
     "end_time": "2017-07-26T14:11:27.594860Z",
     "start_time": "2017-07-26T16:11:27.588859+02:00"
    },
    "collapsed": false
   },
   "outputs": [],
   "source": [
    "print(my_second_sum, type(my_second_sum))\n",
    "print(sum, type(sum))"
   ]
  },
  {
   "cell_type": "code",
   "execution_count": null,
   "metadata": {
    "ExecuteTime": {
     "end_time": "2017-07-26T14:11:31.158216Z",
     "start_time": "2017-07-26T16:11:27.597860+02:00"
    },
    "collapsed": false
   },
   "outputs": [],
   "source": [
    "numbers_numpy = np.array(numbers)\n",
    "\n",
    "%timeit numbers_numpy.sum()"
   ]
  },
  {
   "cell_type": "markdown",
   "metadata": {},
   "source": [
    "# Array creation"
   ]
  },
  {
   "cell_type": "code",
   "execution_count": null,
   "metadata": {
    "ExecuteTime": {
     "end_time": "2017-07-26T14:11:31.170218Z",
     "start_time": "2017-07-26T16:11:31.163217+02:00"
    },
    "collapsed": false
   },
   "outputs": [],
   "source": [
    "np.arange(10)"
   ]
  },
  {
   "cell_type": "code",
   "execution_count": null,
   "metadata": {
    "ExecuteTime": {
     "end_time": "2017-07-26T14:11:31.215222Z",
     "start_time": "2017-07-26T16:11:31.173218+02:00"
    },
    "collapsed": false
   },
   "outputs": [],
   "source": [
    "a = np.arange(15).reshape((3, 5))\n",
    "a"
   ]
  },
  {
   "cell_type": "code",
   "execution_count": null,
   "metadata": {
    "ExecuteTime": {
     "end_time": "2017-07-26T14:11:31.249225Z",
     "start_time": "2017-07-26T16:11:31.219222+02:00"
    },
    "collapsed": false
   },
   "outputs": [],
   "source": [
    "a.shape, a.dtype"
   ]
  },
  {
   "cell_type": "code",
   "execution_count": null,
   "metadata": {
    "ExecuteTime": {
     "end_time": "2017-07-26T14:11:31.275228Z",
     "start_time": "2017-07-26T16:11:31.252226+02:00"
    },
    "collapsed": false
   },
   "outputs": [],
   "source": [
    "identity = np.eye(5)\n",
    "identity"
   ]
  },
  {
   "cell_type": "code",
   "execution_count": null,
   "metadata": {
    "ExecuteTime": {
     "end_time": "2017-07-26T14:11:31.302231Z",
     "start_time": "2017-07-26T16:11:31.278228+02:00"
    },
    "collapsed": false
   },
   "outputs": [],
   "source": [
    "np.ones_like(identity)"
   ]
  },
  {
   "cell_type": "code",
   "execution_count": null,
   "metadata": {
    "ExecuteTime": {
     "end_time": "2017-07-26T14:11:31.325233Z",
     "start_time": "2017-07-26T16:11:31.307231+02:00"
    },
    "collapsed": false
   },
   "outputs": [],
   "source": [
    "np.random.uniform()"
   ]
  },
  {
   "cell_type": "code",
   "execution_count": null,
   "metadata": {
    "ExecuteTime": {
     "end_time": "2017-07-26T14:11:31.349235Z",
     "start_time": "2017-07-26T16:11:31.328233+02:00"
    },
    "collapsed": false
   },
   "outputs": [],
   "source": [
    "randoms = np.random.uniform(size=(3, 3))\n",
    "randoms"
   ]
  },
  {
   "cell_type": "code",
   "execution_count": null,
   "metadata": {
    "ExecuteTime": {
     "end_time": "2017-07-26T14:11:31.367237Z",
     "start_time": "2017-07-26T16:11:31.352236+02:00"
    },
    "collapsed": false
   },
   "outputs": [],
   "source": [
    "randoms.dtype"
   ]
  },
  {
   "cell_type": "markdown",
   "metadata": {},
   "source": [
    "# Basic Operations"
   ]
  },
  {
   "cell_type": "code",
   "execution_count": null,
   "metadata": {
    "ExecuteTime": {
     "end_time": "2017-07-26T14:11:31.399240Z",
     "start_time": "2017-07-26T16:11:31.371238+02:00"
    },
    "collapsed": false
   },
   "outputs": [],
   "source": [
    "a = np.array([20, 30, 40, 50])\n",
    "b = np.arange(4)\n",
    "\n",
    "a - b"
   ]
  },
  {
   "cell_type": "code",
   "execution_count": null,
   "metadata": {
    "ExecuteTime": {
     "end_time": "2017-07-26T14:11:31.418242Z",
     "start_time": "2017-07-26T16:11:31.401241+02:00"
    },
    "collapsed": false
   },
   "outputs": [],
   "source": [
    "b ** 2"
   ]
  },
  {
   "cell_type": "code",
   "execution_count": null,
   "metadata": {
    "ExecuteTime": {
     "end_time": "2017-07-26T14:11:31.444245Z",
     "start_time": "2017-07-26T16:11:31.420243+02:00"
    },
    "collapsed": false
   },
   "outputs": [],
   "source": [
    "10 * np.sin(a)"
   ]
  },
  {
   "cell_type": "code",
   "execution_count": null,
   "metadata": {
    "ExecuteTime": {
     "end_time": "2017-07-26T14:11:31.462247Z",
     "start_time": "2017-07-26T16:11:31.449245+02:00"
    },
    "collapsed": false
   },
   "outputs": [],
   "source": [
    "a < 35"
   ]
  },
  {
   "cell_type": "code",
   "execution_count": null,
   "metadata": {
    "ExecuteTime": {
     "end_time": "2017-07-26T14:11:31.481249Z",
     "start_time": "2017-07-26T16:11:31.464247+02:00"
    },
    "collapsed": false
   },
   "outputs": [],
   "source": [
    "A = np.array([\n",
    "    [1., 1.],\n",
    "    [0., 1.],\n",
    "])\n",
    "\n",
    "B = np.array([\n",
    "    [2, 0],\n",
    "    [3, 4],\n",
    "])\n",
    "\n",
    "A.dtype, B.dtype"
   ]
  },
  {
   "cell_type": "code",
   "execution_count": null,
   "metadata": {
    "ExecuteTime": {
     "end_time": "2017-07-26T14:11:31.503251Z",
     "start_time": "2017-07-26T16:11:31.483249+02:00"
    },
    "collapsed": false
   },
   "outputs": [],
   "source": [
    "A * B"
   ]
  },
  {
   "cell_type": "code",
   "execution_count": null,
   "metadata": {
    "ExecuteTime": {
     "end_time": "2017-07-26T14:11:31.532254Z",
     "start_time": "2017-07-26T16:11:31.508251+02:00"
    },
    "collapsed": false
   },
   "outputs": [],
   "source": [
    "A.dot(B)"
   ]
  },
  {
   "cell_type": "code",
   "execution_count": null,
   "metadata": {
    "ExecuteTime": {
     "end_time": "2017-07-26T14:11:31.552256Z",
     "start_time": "2017-07-26T16:11:31.534254+02:00"
    },
    "collapsed": false
   },
   "outputs": [],
   "source": [
    "np.dot(A, B)"
   ]
  },
  {
   "cell_type": "code",
   "execution_count": null,
   "metadata": {
    "ExecuteTime": {
     "end_time": "2017-07-26T14:11:31.570258Z",
     "start_time": "2017-07-26T16:11:31.555256+02:00"
    },
    "collapsed": false
   },
   "outputs": [],
   "source": [
    "A @ B"
   ]
  },
  {
   "cell_type": "code",
   "execution_count": null,
   "metadata": {
    "ExecuteTime": {
     "end_time": "2017-07-26T14:11:31.593260Z",
     "start_time": "2017-07-26T16:11:31.572258+02:00"
    },
    "collapsed": false
   },
   "outputs": [],
   "source": [
    "A += 1\n",
    "A"
   ]
  },
  {
   "cell_type": "code",
   "execution_count": null,
   "metadata": {
    "ExecuteTime": {
     "end_time": "2017-07-26T14:11:31.617262Z",
     "start_time": "2017-07-26T16:11:31.597260+02:00"
    },
    "collapsed": false
   },
   "outputs": [],
   "source": [
    "randoms = np.random.uniform(size=(3, 3))\n",
    "randoms"
   ]
  },
  {
   "cell_type": "code",
   "execution_count": null,
   "metadata": {
    "ExecuteTime": {
     "end_time": "2017-07-26T14:11:31.640265Z",
     "start_time": "2017-07-26T16:11:31.619262+02:00"
    },
    "collapsed": false
   },
   "outputs": [],
   "source": [
    "randoms.sum()"
   ]
  },
  {
   "cell_type": "code",
   "execution_count": null,
   "metadata": {
    "ExecuteTime": {
     "end_time": "2017-07-26T14:11:31.662267Z",
     "start_time": "2017-07-26T16:11:31.644265+02:00"
    },
    "collapsed": false
   },
   "outputs": [],
   "source": [
    "randoms.min(), randoms.mean(), randoms.max()"
   ]
  },
  {
   "cell_type": "markdown",
   "metadata": {},
   "source": [
    "# Operations over axes"
   ]
  },
  {
   "cell_type": "code",
   "execution_count": null,
   "metadata": {
    "ExecuteTime": {
     "end_time": "2017-07-26T14:11:31.686269Z",
     "start_time": "2017-07-26T16:11:31.664267+02:00"
    },
    "collapsed": false
   },
   "outputs": [],
   "source": [
    "M = np.arange(12, dtype=np.float).reshape((3, 4))\n",
    "M"
   ]
  },
  {
   "cell_type": "code",
   "execution_count": null,
   "metadata": {
    "ExecuteTime": {
     "end_time": "2017-07-26T14:11:31.717272Z",
     "start_time": "2017-07-26T16:11:31.689269+02:00"
    },
    "collapsed": false
   },
   "outputs": [],
   "source": [
    "M.sum(axis=0)"
   ]
  },
  {
   "cell_type": "code",
   "execution_count": null,
   "metadata": {
    "ExecuteTime": {
     "end_time": "2017-07-26T14:11:31.744275Z",
     "start_time": "2017-07-26T16:11:31.719272+02:00"
    },
    "collapsed": false
   },
   "outputs": [],
   "source": [
    "M.sum(axis=1)"
   ]
  },
  {
   "cell_type": "code",
   "execution_count": null,
   "metadata": {
    "ExecuteTime": {
     "end_time": "2017-07-26T14:11:31.774278Z",
     "start_time": "2017-07-26T16:11:31.748275+02:00"
    },
    "collapsed": false
   },
   "outputs": [],
   "source": [
    "P = np.arange(3 * 4 * 5, dtype=np.float).reshape((3, 4, 5))\n",
    "P"
   ]
  },
  {
   "cell_type": "code",
   "execution_count": null,
   "metadata": {
    "ExecuteTime": {
     "end_time": "2017-07-26T14:11:31.796280Z",
     "start_time": "2017-07-26T16:11:31.776278+02:00"
    },
    "collapsed": false
   },
   "outputs": [],
   "source": [
    "P.min(axis=0)"
   ]
  },
  {
   "cell_type": "code",
   "execution_count": null,
   "metadata": {
    "ExecuteTime": {
     "end_time": "2017-07-26T14:11:31.816282Z",
     "start_time": "2017-07-26T16:11:31.799280+02:00"
    },
    "collapsed": false
   },
   "outputs": [],
   "source": [
    "P.min(axis=1)"
   ]
  },
  {
   "cell_type": "code",
   "execution_count": null,
   "metadata": {
    "ExecuteTime": {
     "end_time": "2017-07-26T14:11:31.834284Z",
     "start_time": "2017-07-26T16:11:31.818282+02:00"
    },
    "collapsed": false
   },
   "outputs": [],
   "source": [
    "P.min(axis=2)"
   ]
  },
  {
   "cell_type": "code",
   "execution_count": null,
   "metadata": {
    "ExecuteTime": {
     "end_time": "2017-07-26T14:11:31.858286Z",
     "start_time": "2017-07-26T16:11:31.836284+02:00"
    },
    "collapsed": false
   },
   "outputs": [],
   "source": [
    "P.min(axis=-1)"
   ]
  },
  {
   "cell_type": "code",
   "execution_count": null,
   "metadata": {
    "ExecuteTime": {
     "end_time": "2017-07-26T14:11:31.879288Z",
     "start_time": "2017-07-26T16:11:31.862287+02:00"
    },
    "collapsed": false
   },
   "outputs": [],
   "source": [
    "P.min(axis=(0, 1))"
   ]
  },
  {
   "cell_type": "markdown",
   "metadata": {},
   "source": [
    "# Indexing and Slicing"
   ]
  },
  {
   "cell_type": "code",
   "execution_count": null,
   "metadata": {
    "ExecuteTime": {
     "end_time": "2017-07-26T14:11:31.912292Z",
     "start_time": "2017-07-26T16:11:31.881289+02:00"
    },
    "collapsed": false
   },
   "outputs": [],
   "source": [
    "a = np.arange(10) ** 3\n",
    "a"
   ]
  },
  {
   "cell_type": "code",
   "execution_count": null,
   "metadata": {
    "ExecuteTime": {
     "end_time": "2017-07-26T14:11:31.933294Z",
     "start_time": "2017-07-26T16:11:31.916292+02:00"
    },
    "collapsed": false
   },
   "outputs": [],
   "source": [
    "a[2]"
   ]
  },
  {
   "cell_type": "code",
   "execution_count": null,
   "metadata": {
    "ExecuteTime": {
     "end_time": "2017-07-26T14:11:31.961297Z",
     "start_time": "2017-07-26T16:11:31.936294+02:00"
    },
    "collapsed": false
   },
   "outputs": [],
   "source": [
    "a[2:5]"
   ]
  },
  {
   "cell_type": "code",
   "execution_count": null,
   "metadata": {
    "ExecuteTime": {
     "end_time": "2017-07-26T14:11:31.982299Z",
     "start_time": "2017-07-26T16:11:31.964297+02:00"
    },
    "collapsed": false
   },
   "outputs": [],
   "source": [
    "a[:5]"
   ]
  },
  {
   "cell_type": "code",
   "execution_count": null,
   "metadata": {
    "ExecuteTime": {
     "end_time": "2017-07-26T14:11:32.001301Z",
     "start_time": "2017-07-26T16:11:31.984299+02:00"
    },
    "collapsed": false
   },
   "outputs": [],
   "source": [
    "a[-3:]"
   ]
  },
  {
   "cell_type": "code",
   "execution_count": null,
   "metadata": {
    "ExecuteTime": {
     "end_time": "2017-07-26T14:11:32.020303Z",
     "start_time": "2017-07-26T16:11:32.003301+02:00"
    },
    "collapsed": false
   },
   "outputs": [],
   "source": [
    "a[::2]"
   ]
  },
  {
   "cell_type": "code",
   "execution_count": null,
   "metadata": {
    "ExecuteTime": {
     "end_time": "2017-07-26T14:11:32.047305Z",
     "start_time": "2017-07-26T16:11:32.023303+02:00"
    },
    "collapsed": false
   },
   "outputs": [],
   "source": [
    "a[::-1]"
   ]
  },
  {
   "cell_type": "code",
   "execution_count": null,
   "metadata": {
    "ExecuteTime": {
     "end_time": "2017-07-26T14:11:32.067307Z",
     "start_time": "2017-07-26T16:11:32.051306+02:00"
    },
    "collapsed": false
   },
   "outputs": [],
   "source": [
    "b = a[::2]\n",
    "b[-1] = -1\n",
    "b"
   ]
  },
  {
   "cell_type": "code",
   "execution_count": null,
   "metadata": {
    "ExecuteTime": {
     "end_time": "2017-07-26T14:11:32.085309Z",
     "start_time": "2017-07-26T16:11:32.069307+02:00"
    },
    "collapsed": false
   },
   "outputs": [],
   "source": [
    "a"
   ]
  },
  {
   "cell_type": "code",
   "execution_count": null,
   "metadata": {
    "ExecuteTime": {
     "end_time": "2017-07-26T14:11:32.101311Z",
     "start_time": "2017-07-26T16:11:32.087309+02:00"
    },
    "collapsed": true
   },
   "outputs": [],
   "source": [
    "a[:3] = -10"
   ]
  },
  {
   "cell_type": "code",
   "execution_count": null,
   "metadata": {
    "ExecuteTime": {
     "end_time": "2017-07-26T14:11:32.123313Z",
     "start_time": "2017-07-26T16:11:32.107311+02:00"
    },
    "collapsed": false
   },
   "outputs": [],
   "source": [
    "a"
   ]
  },
  {
   "cell_type": "code",
   "execution_count": null,
   "metadata": {
    "ExecuteTime": {
     "end_time": "2017-07-26T14:11:32.153316Z",
     "start_time": "2017-07-26T16:11:32.127313+02:00"
    },
    "collapsed": false
   },
   "outputs": [],
   "source": [
    "P = np.arange(3 * 4 * 5, dtype=np.float).reshape((3, 4, 5))\n",
    "P"
   ]
  },
  {
   "cell_type": "code",
   "execution_count": null,
   "metadata": {
    "ExecuteTime": {
     "end_time": "2017-07-26T14:11:32.175318Z",
     "start_time": "2017-07-26T16:11:32.157316+02:00"
    },
    "collapsed": false
   },
   "outputs": [],
   "source": [
    "P[0, :, :]"
   ]
  },
  {
   "cell_type": "code",
   "execution_count": null,
   "metadata": {
    "ExecuteTime": {
     "end_time": "2017-07-26T14:11:32.200321Z",
     "start_time": "2017-07-26T16:11:32.177318+02:00"
    },
    "collapsed": false
   },
   "outputs": [],
   "source": [
    "P[0]"
   ]
  },
  {
   "cell_type": "code",
   "execution_count": null,
   "metadata": {
    "ExecuteTime": {
     "end_time": "2017-07-26T14:11:32.223323Z",
     "start_time": "2017-07-26T16:11:32.202321+02:00"
    },
    "collapsed": false
   },
   "outputs": [],
   "source": [
    "P[0, :, -1]"
   ]
  },
  {
   "cell_type": "code",
   "execution_count": null,
   "metadata": {
    "ExecuteTime": {
     "end_time": "2017-07-26T14:11:32.245325Z",
     "start_time": "2017-07-26T16:11:32.225323+02:00"
    },
    "collapsed": false
   },
   "outputs": [],
   "source": [
    "P[0, :, 2:]"
   ]
  },
  {
   "cell_type": "code",
   "execution_count": null,
   "metadata": {
    "ExecuteTime": {
     "end_time": "2017-07-26T14:11:32.266327Z",
     "start_time": "2017-07-26T16:11:32.248325+02:00"
    },
    "collapsed": false
   },
   "outputs": [],
   "source": [
    "P[..., 0]"
   ]
  },
  {
   "cell_type": "code",
   "execution_count": null,
   "metadata": {
    "ExecuteTime": {
     "end_time": "2017-07-26T14:11:32.286329Z",
     "start_time": "2017-07-26T16:11:32.268327+02:00"
    },
    "collapsed": false
   },
   "outputs": [],
   "source": [
    "P[0, ..., 0]"
   ]
  },
  {
   "cell_type": "code",
   "execution_count": null,
   "metadata": {
    "ExecuteTime": {
     "end_time": "2017-07-26T14:11:32.307331Z",
     "start_time": "2017-07-26T16:11:32.289329+02:00"
    },
    "collapsed": false
   },
   "outputs": [],
   "source": [
    "P"
   ]
  },
  {
   "cell_type": "code",
   "execution_count": null,
   "metadata": {
    "ExecuteTime": {
     "end_time": "2017-07-26T14:11:32.328333Z",
     "start_time": "2017-07-26T16:11:32.309331+02:00"
    },
    "collapsed": false
   },
   "outputs": [],
   "source": [
    "for p in P:\n",
    "    print(p.min())"
   ]
  },
  {
   "cell_type": "markdown",
   "metadata": {},
   "source": [
    "# Fancy Indexing"
   ]
  },
  {
   "cell_type": "code",
   "execution_count": null,
   "metadata": {
    "ExecuteTime": {
     "end_time": "2017-07-26T14:11:32.350336Z",
     "start_time": "2017-07-26T16:11:32.331334+02:00"
    },
    "collapsed": false
   },
   "outputs": [],
   "source": [
    "a = np.arange(10) ** 3\n",
    "a"
   ]
  },
  {
   "cell_type": "code",
   "execution_count": null,
   "metadata": {
    "ExecuteTime": {
     "end_time": "2017-07-26T14:11:32.375338Z",
     "start_time": "2017-07-26T16:11:32.353336+02:00"
    },
    "collapsed": false
   },
   "outputs": [],
   "source": [
    "is_even = a % 2 == 0\n",
    "is_even"
   ]
  },
  {
   "cell_type": "code",
   "execution_count": null,
   "metadata": {
    "ExecuteTime": {
     "end_time": "2017-07-26T14:11:32.395340Z",
     "start_time": "2017-07-26T16:11:32.377338+02:00"
    },
    "collapsed": false
   },
   "outputs": [],
   "source": [
    "a[is_even]"
   ]
  },
  {
   "cell_type": "code",
   "execution_count": null,
   "metadata": {
    "ExecuteTime": {
     "end_time": "2017-07-26T14:11:32.418342Z",
     "start_time": "2017-07-26T16:11:32.400341+02:00"
    },
    "collapsed": false
   },
   "outputs": [],
   "source": [
    "b = a.copy()\n",
    "b[is_even] = -1\n",
    "b"
   ]
  },
  {
   "cell_type": "code",
   "execution_count": null,
   "metadata": {
    "ExecuteTime": {
     "end_time": "2017-07-26T14:11:32.446345Z",
     "start_time": "2017-07-26T16:11:32.421343+02:00"
    },
    "collapsed": false
   },
   "outputs": [],
   "source": [
    "indexer = [0, 1, 4]\n",
    "a[indexer]"
   ]
  },
  {
   "cell_type": "code",
   "execution_count": null,
   "metadata": {
    "ExecuteTime": {
     "end_time": "2017-07-26T14:11:32.470348Z",
     "start_time": "2017-07-26T16:11:32.449345+02:00"
    },
    "collapsed": false
   },
   "outputs": [],
   "source": [
    "c = a.copy()\n",
    "c[indexer] = -1\n",
    "c"
   ]
  },
  {
   "cell_type": "code",
   "execution_count": null,
   "metadata": {
    "ExecuteTime": {
     "end_time": "2017-07-26T14:11:32.493350Z",
     "start_time": "2017-07-26T16:11:32.473348+02:00"
    },
    "collapsed": false
   },
   "outputs": [],
   "source": [
    "a[[2, 3, 2, 2]]"
   ]
  },
  {
   "cell_type": "code",
   "execution_count": null,
   "metadata": {
    "ExecuteTime": {
     "end_time": "2017-07-26T14:11:32.518352Z",
     "start_time": "2017-07-26T16:11:32.498350+02:00"
    },
    "collapsed": false
   },
   "outputs": [],
   "source": [
    "M = np.arange(12, dtype=np.float).reshape((3, 4))\n",
    "M"
   ]
  },
  {
   "cell_type": "code",
   "execution_count": null,
   "metadata": {
    "ExecuteTime": {
     "end_time": "2017-07-26T14:11:32.543355Z",
     "start_time": "2017-07-26T16:11:32.523353+02:00"
    },
    "collapsed": false
   },
   "outputs": [],
   "source": [
    "is_even = M % 2 == 0\n",
    "is_even"
   ]
  },
  {
   "cell_type": "code",
   "execution_count": null,
   "metadata": {
    "ExecuteTime": {
     "end_time": "2017-07-26T14:11:32.573358Z",
     "start_time": "2017-07-26T16:11:32.548355+02:00"
    },
    "collapsed": false
   },
   "outputs": [],
   "source": [
    "M[is_even]"
   ]
  },
  {
   "cell_type": "code",
   "execution_count": null,
   "metadata": {
    "ExecuteTime": {
     "end_time": "2017-07-26T14:11:32.592360Z",
     "start_time": "2017-07-26T16:11:32.575358+02:00"
    },
    "collapsed": false
   },
   "outputs": [],
   "source": [
    "is_all_even_column = is_even.all(axis=0)\n",
    "is_all_even_column"
   ]
  },
  {
   "cell_type": "code",
   "execution_count": null,
   "metadata": {
    "ExecuteTime": {
     "end_time": "2017-07-26T14:11:32.616362Z",
     "start_time": "2017-07-26T16:11:32.595360+02:00"
    },
    "collapsed": false
   },
   "outputs": [],
   "source": [
    "M[:, is_all_even_column]"
   ]
  },
  {
   "cell_type": "code",
   "execution_count": null,
   "metadata": {
    "ExecuteTime": {
     "end_time": "2017-07-26T14:11:32.636364Z",
     "start_time": "2017-07-26T16:11:32.619362+02:00"
    },
    "collapsed": false
   },
   "outputs": [],
   "source": [
    "M[:, [0, 2]]"
   ]
  },
  {
   "cell_type": "code",
   "execution_count": null,
   "metadata": {
    "ExecuteTime": {
     "end_time": "2017-07-26T14:11:32.656366Z",
     "start_time": "2017-07-26T16:11:32.638364+02:00"
    },
    "collapsed": false
   },
   "outputs": [],
   "source": [
    "M[1, is_all_even_column]"
   ]
  },
  {
   "cell_type": "code",
   "execution_count": null,
   "metadata": {
    "ExecuteTime": {
     "end_time": "2017-07-26T14:11:32.673368Z",
     "start_time": "2017-07-26T16:11:32.659366+02:00"
    },
    "collapsed": false
   },
   "outputs": [],
   "source": [
    "M[[0, 2], [1, 3]]"
   ]
  },
  {
   "cell_type": "code",
   "execution_count": null,
   "metadata": {
    "ExecuteTime": {
     "end_time": "2017-07-26T14:11:32.691370Z",
     "start_time": "2017-07-26T16:11:32.675368+02:00"
    },
    "collapsed": false
   },
   "outputs": [],
   "source": [
    "M[[0, 2]][:, [1, 3]]"
   ]
  },
  {
   "cell_type": "code",
   "execution_count": null,
   "metadata": {
    "ExecuteTime": {
     "end_time": "2017-07-26T14:11:32.711372Z",
     "start_time": "2017-07-26T16:11:32.694370+02:00"
    },
    "collapsed": false
   },
   "outputs": [],
   "source": [
    "M[np.meshgrid([0, 2], [1, 3], indexing='ij')]"
   ]
  },
  {
   "cell_type": "code",
   "execution_count": null,
   "metadata": {
    "ExecuteTime": {
     "end_time": "2017-07-26T14:11:32.734374Z",
     "start_time": "2017-07-26T16:11:32.713372+02:00"
    },
    "collapsed": false
   },
   "outputs": [],
   "source": [
    "np.meshgrid([0, 2], [1, 3], indexing='ij')"
   ]
  },
  {
   "cell_type": "markdown",
   "metadata": {
    "ExecuteTime": {
     "end_time": "2017-07-26T13:10:21.117641Z",
     "start_time": "2017-07-26T15:10:21.114641+02:00"
    }
   },
   "source": [
    "# Broadcasting"
   ]
  },
  {
   "cell_type": "code",
   "execution_count": null,
   "metadata": {
    "ExecuteTime": {
     "end_time": "2017-07-26T14:11:32.757376Z",
     "start_time": "2017-07-26T16:11:32.738374+02:00"
    },
    "collapsed": false
   },
   "outputs": [],
   "source": [
    "M = np.arange(12, dtype=np.float).reshape((3, 4))\n",
    "M"
   ]
  },
  {
   "cell_type": "code",
   "execution_count": null,
   "metadata": {
    "ExecuteTime": {
     "end_time": "2017-07-26T14:11:32.780379Z",
     "start_time": "2017-07-26T16:11:32.761377+02:00"
    },
    "collapsed": false
   },
   "outputs": [],
   "source": [
    "M.T"
   ]
  },
  {
   "cell_type": "code",
   "execution_count": null,
   "metadata": {
    "ExecuteTime": {
     "end_time": "2017-07-26T14:11:32.901391Z",
     "start_time": "2017-07-26T16:11:32.785379+02:00"
    },
    "collapsed": false
   },
   "outputs": [],
   "source": [
    "M + M.T"
   ]
  },
  {
   "cell_type": "code",
   "execution_count": null,
   "metadata": {
    "ExecuteTime": {
     "end_time": "2017-07-26T14:11:50.381138Z",
     "start_time": "2017-07-26T16:11:50.365137+02:00"
    },
    "collapsed": false
   },
   "outputs": [],
   "source": [
    "column_factors = np.array([1, 2, 10, 4])\n",
    "row_factors = np.array([3, 0, -1])\n",
    "\n",
    "for a in [M, column_factors, row_factors]:\n",
    "    print(a.shape)"
   ]
  },
  {
   "cell_type": "code",
   "execution_count": null,
   "metadata": {
    "ExecuteTime": {
     "end_time": "2017-07-26T14:11:51.849285Z",
     "start_time": "2017-07-26T16:11:51.839284+02:00"
    },
    "collapsed": false
   },
   "outputs": [],
   "source": [
    "M * column_factors"
   ]
  },
  {
   "cell_type": "code",
   "execution_count": null,
   "metadata": {
    "ExecuteTime": {
     "end_time": "2017-07-26T14:11:52.521352Z",
     "start_time": "2017-07-26T16:11:52.505351+02:00"
    },
    "collapsed": false
   },
   "outputs": [],
   "source": [
    "M * row_factors"
   ]
  },
  {
   "cell_type": "code",
   "execution_count": null,
   "metadata": {
    "ExecuteTime": {
     "end_time": "2017-07-26T14:11:52.696370Z",
     "start_time": "2017-07-26T16:11:52.689369+02:00"
    },
    "collapsed": false
   },
   "outputs": [],
   "source": [
    "row_factors[:, None].shape"
   ]
  },
  {
   "cell_type": "code",
   "execution_count": null,
   "metadata": {
    "ExecuteTime": {
     "end_time": "2017-07-26T14:11:53.247425Z",
     "start_time": "2017-07-26T16:11:53.236424+02:00"
    },
    "collapsed": false
   },
   "outputs": [],
   "source": [
    "M * row_factors[:, None]"
   ]
  },
  {
   "cell_type": "markdown",
   "metadata": {},
   "source": [
    "Broadcasting rule\n",
    "---\n",
    "When operating on two arrays, NumPy compares their shapes element-wise.\n",
    "It starts with the trailing dimensions, and works its way forward. Two dimensions are compatible when\n",
    "\n",
    "  1. they are equal, or\n",
    "  2. one of them is 1"
   ]
  },
  {
   "cell_type": "markdown",
   "metadata": {},
   "source": [
    "# Finding help"
   ]
  },
  {
   "cell_type": "code",
   "execution_count": null,
   "metadata": {
    "ExecuteTime": {
     "end_time": "2017-07-26T14:11:32.905391Z",
     "start_time": "2017-07-26T14:11:18.525Z"
    },
    "collapsed": true
   },
   "outputs": [],
   "source": [
    "np.sum?"
   ]
  },
  {
   "cell_type": "code",
   "execution_count": null,
   "metadata": {
    "ExecuteTime": {
     "end_time": "2017-07-26T14:11:32.906391Z",
     "start_time": "2017-07-26T14:11:18.527Z"
    },
    "collapsed": true
   },
   "outputs": [],
   "source": [
    "np.sum??"
   ]
  },
  {
   "cell_type": "code",
   "execution_count": null,
   "metadata": {
    "ExecuteTime": {
     "end_time": "2017-07-26T14:11:32.906391Z",
     "start_time": "2017-07-26T14:11:18.530Z"
    },
    "collapsed": false
   },
   "outputs": [],
   "source": [
    "help(np.sum)"
   ]
  },
  {
   "cell_type": "code",
   "execution_count": null,
   "metadata": {
    "ExecuteTime": {
     "end_time": "2017-07-26T14:11:32.906391Z",
     "start_time": "2017-07-26T14:11:18.534Z"
    },
    "collapsed": false
   },
   "outputs": [],
   "source": [
    "np.lookfor('cumulative sum')"
   ]
  },
  {
   "cell_type": "code",
   "execution_count": null,
   "metadata": {
    "ExecuteTime": {
     "end_time": "2017-07-26T14:11:32.907391Z",
     "start_time": "2017-07-26T14:11:18.538Z"
    },
    "collapsed": false
   },
   "outputs": [],
   "source": [
    "np.show_config()"
   ]
  }
 ],
 "metadata": {
  "kernelspec": {
   "display_name": "Python 3",
   "language": "python",
   "name": "python3"
  },
  "language_info": {
   "codemirror_mode": {
    "name": "ipython",
    "version": 3
   },
   "file_extension": ".py",
   "mimetype": "text/x-python",
   "name": "python",
   "nbconvert_exporter": "python",
   "pygments_lexer": "ipython3",
   "version": "3.6.0"
  }
 },
 "nbformat": 4,
 "nbformat_minor": 2
}
